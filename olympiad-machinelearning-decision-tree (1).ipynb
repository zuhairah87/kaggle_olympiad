{
 "cells": [
  {
   "cell_type": "code",
   "execution_count": 1,
   "id": "b4465e80",
   "metadata": {
    "_cell_guid": "b1076dfc-b9ad-4769-8c92-a6c4dae69d19",
    "_uuid": "8f2839f25d086af736a60e9eeb907d3b93b6e0e5",
    "execution": {
     "iopub.execute_input": "2024-03-29T16:49:46.028107Z",
     "iopub.status.busy": "2024-03-29T16:49:46.027408Z",
     "iopub.status.idle": "2024-03-29T16:49:46.980717Z",
     "shell.execute_reply": "2024-03-29T16:49:46.979637Z"
    },
    "papermill": {
     "duration": 0.971481,
     "end_time": "2024-03-29T16:49:46.983297",
     "exception": false,
     "start_time": "2024-03-29T16:49:46.011816",
     "status": "completed"
    },
    "tags": []
   },
   "outputs": [
    {
     "name": "stdout",
     "output_type": "stream",
     "text": [
      "/kaggle/input/ml-olympiad-ai-ml-malaysia/sample_submission.csv\n",
      "/kaggle/input/ml-olympiad-ai-ml-malaysia/train.csv\n",
      "/kaggle/input/ml-olympiad-ai-ml-malaysia/test.csv\n"
     ]
    }
   ],
   "source": [
    "# This Python 3 environment comes with many helpful analytics libraries installed\n",
    "# It is defined by the kaggle/python Docker image: https://github.com/kaggle/docker-python\n",
    "# For example, here's several helpful packages to load\n",
    "\n",
    "import numpy as np # linear algebra\n",
    "import pandas as pd # data processing, CSV file I/O (e.g. pd.read_csv)\n",
    "\n",
    "# Input data files are available in the read-only \"../input/\" directory\n",
    "# For example, running this (by clicking run or pressing Shift+Enter) will list all files under the input directory\n",
    "\n",
    "import os\n",
    "for dirname, _, filenames in os.walk('/kaggle/input'):\n",
    "    for filename in filenames:\n",
    "        print(os.path.join(dirname, filename))\n",
    "\n",
    "# You can write up to 20GB to the current directory (/kaggle/working/) that gets preserved as output when you create a version using \"Save & Run All\" \n",
    "# You can also write temporary files to /kaggle/temp/, but they won't be saved outside of the current session"
   ]
  },
  {
   "cell_type": "code",
   "execution_count": 2,
   "id": "043e2153",
   "metadata": {
    "execution": {
     "iopub.execute_input": "2024-03-29T16:49:47.011521Z",
     "iopub.status.busy": "2024-03-29T16:49:47.011012Z",
     "iopub.status.idle": "2024-03-29T16:49:47.418951Z",
     "shell.execute_reply": "2024-03-29T16:49:47.417966Z"
    },
    "papermill": {
     "duration": 0.424288,
     "end_time": "2024-03-29T16:49:47.421725",
     "exception": false,
     "start_time": "2024-03-29T16:49:46.997437",
     "status": "completed"
    },
    "tags": []
   },
   "outputs": [],
   "source": [
    "data_train = pd.read_csv(\"/kaggle/input/ml-olympiad-ai-ml-malaysia/train.csv\")\n",
    "data_test = pd.read_csv(\"/kaggle/input/ml-olympiad-ai-ml-malaysia/test.csv\")"
   ]
  },
  {
   "cell_type": "markdown",
   "id": "2183e531",
   "metadata": {
    "papermill": {
     "duration": 0.012319,
     "end_time": "2024-03-29T16:49:47.446521",
     "exception": false,
     "start_time": "2024-03-29T16:49:47.434202",
     "status": "completed"
    },
    "tags": []
   },
   "source": [
    "## Dataset Description\n",
    "#### id : Customer ID\n",
    "#### 02 : Gender (categorical)\n",
    "#### 03 : Date of Birth of the applicant\n",
    "#### 04 : Lead Creation Date\n",
    "#### 05 : City Code (categorical)\n",
    "#### 06 : Area Code (categorical)\n",
    "#### 07 : Employer Code (categorical)\n",
    "#### 08 : Employer Category1 (categorical)\n",
    "#### 09 : Employer Category2 (categorical)\n",
    "#### 10 : Monthly Income\n",
    "#### 11 : Bank Code\n",
    "#### 12 : Bank Account Type (categorical)\n",
    "#### 13 : Marketing Source (categorical)\n",
    "#### 14 : Marketing_Category1 (categorical)\n",
    "#### 15 : Marketing_Category2 (categorical)\n",
    "#### 16 : Current Loan Installment\n",
    "#### 17 : Requested Loan Amount\n",
    "#### 18 : Loan Repayment (Years)\n",
    "#### 19 : Interest Rate\n",
    "#### 20 : Requested Loan Installment\n",
    "#### class : Loan Approval Status (Yes=1, No=0)"
   ]
  },
  {
   "cell_type": "code",
   "execution_count": 3,
   "id": "34cc49e1",
   "metadata": {
    "execution": {
     "iopub.execute_input": "2024-03-29T16:49:47.473835Z",
     "iopub.status.busy": "2024-03-29T16:49:47.473472Z",
     "iopub.status.idle": "2024-03-29T16:49:47.516078Z",
     "shell.execute_reply": "2024-03-29T16:49:47.514283Z"
    },
    "papermill": {
     "duration": 0.059433,
     "end_time": "2024-03-29T16:49:47.518535",
     "exception": false,
     "start_time": "2024-03-29T16:49:47.459102",
     "status": "completed"
    },
    "tags": []
   },
   "outputs": [
    {
     "name": "stdout",
     "output_type": "stream",
     "text": [
      "<class 'pandas.core.frame.DataFrame'>\n",
      "RangeIndex: 55760 entries, 0 to 55759\n",
      "Data columns (total 21 columns):\n",
      " #   Column  Non-Null Count  Dtype  \n",
      "---  ------  --------------  -----  \n",
      " 0   id      55760 non-null  int64  \n",
      " 1   02      55760 non-null  int64  \n",
      " 2   03      55752 non-null  object \n",
      " 3   04      55760 non-null  object \n",
      " 4   05      55760 non-null  int64  \n",
      " 5   06      55102 non-null  float64\n",
      " 6   07      55760 non-null  int64  \n",
      " 7   08      52567 non-null  float64\n",
      " 8   09      52336 non-null  float64\n",
      " 9   10      55760 non-null  float64\n",
      " 10  11      55760 non-null  int64  \n",
      " 11  12      48289 non-null  float64\n",
      " 12  13      55760 non-null  int64  \n",
      " 13  14      55760 non-null  int64  \n",
      " 14  15      55760 non-null  int64  \n",
      " 15  16      55719 non-null  float64\n",
      " 16  17      33629 non-null  float64\n",
      " 17  18      33629 non-null  float64\n",
      " 18  19      17819 non-null  float64\n",
      " 19  20      55719 non-null  float64\n",
      " 20  class   55760 non-null  int64  \n",
      "dtypes: float64(10), int64(9), object(2)\n",
      "memory usage: 8.9+ MB\n"
     ]
    }
   ],
   "source": [
    "data_train.info()"
   ]
  },
  {
   "cell_type": "code",
   "execution_count": 4,
   "id": "4ef964aa",
   "metadata": {
    "execution": {
     "iopub.execute_input": "2024-03-29T16:49:47.546430Z",
     "iopub.status.busy": "2024-03-29T16:49:47.546045Z",
     "iopub.status.idle": "2024-03-29T16:49:47.562588Z",
     "shell.execute_reply": "2024-03-29T16:49:47.561390Z"
    },
    "papermill": {
     "duration": 0.032929,
     "end_time": "2024-03-29T16:49:47.565043",
     "exception": false,
     "start_time": "2024-03-29T16:49:47.532114",
     "status": "completed"
    },
    "tags": []
   },
   "outputs": [
    {
     "name": "stdout",
     "output_type": "stream",
     "text": [
      "<class 'pandas.core.frame.DataFrame'>\n",
      "RangeIndex: 13940 entries, 0 to 13939\n",
      "Data columns (total 20 columns):\n",
      " #   Column  Non-Null Count  Dtype  \n",
      "---  ------  --------------  -----  \n",
      " 0   id      13940 non-null  int64  \n",
      " 1   02      13940 non-null  int64  \n",
      " 2   03      13933 non-null  object \n",
      " 3   04      13940 non-null  object \n",
      " 4   05      13940 non-null  int64  \n",
      " 5   06      13784 non-null  float64\n",
      " 6   07      13940 non-null  int64  \n",
      " 7   08      13115 non-null  float64\n",
      " 8   09      13066 non-null  float64\n",
      " 9   10      13940 non-null  float64\n",
      " 10  11      13940 non-null  int64  \n",
      " 11  12      12023 non-null  float64\n",
      " 12  13      13940 non-null  int64  \n",
      " 13  14      13940 non-null  int64  \n",
      " 14  15      13940 non-null  int64  \n",
      " 15  16      13930 non-null  float64\n",
      " 16  17      8366 non-null   float64\n",
      " 17  18      8366 non-null   float64\n",
      " 18  19      4452 non-null   float64\n",
      " 19  20      13930 non-null  float64\n",
      "dtypes: float64(10), int64(8), object(2)\n",
      "memory usage: 2.1+ MB\n"
     ]
    }
   ],
   "source": [
    "data_test.info()"
   ]
  },
  {
   "cell_type": "code",
   "execution_count": 5,
   "id": "e6450d8c",
   "metadata": {
    "execution": {
     "iopub.execute_input": "2024-03-29T16:49:47.592198Z",
     "iopub.status.busy": "2024-03-29T16:49:47.591788Z",
     "iopub.status.idle": "2024-03-29T16:49:47.692460Z",
     "shell.execute_reply": "2024-03-29T16:49:47.691328Z"
    },
    "papermill": {
     "duration": 0.117133,
     "end_time": "2024-03-29T16:49:47.694863",
     "exception": false,
     "start_time": "2024-03-29T16:49:47.577730",
     "status": "completed"
    },
    "tags": []
   },
   "outputs": [
    {
     "data": {
      "text/html": [
       "<div>\n",
       "<style scoped>\n",
       "    .dataframe tbody tr th:only-of-type {\n",
       "        vertical-align: middle;\n",
       "    }\n",
       "\n",
       "    .dataframe tbody tr th {\n",
       "        vertical-align: top;\n",
       "    }\n",
       "\n",
       "    .dataframe thead th {\n",
       "        text-align: right;\n",
       "    }\n",
       "</style>\n",
       "<table border=\"1\" class=\"dataframe\">\n",
       "  <thead>\n",
       "    <tr style=\"text-align: right;\">\n",
       "      <th></th>\n",
       "      <th>ID</th>\n",
       "      <th>Gender</th>\n",
       "      <th>DOB</th>\n",
       "      <th>Lead Creation Date</th>\n",
       "      <th>City code</th>\n",
       "      <th>Area code</th>\n",
       "      <th>Employer code</th>\n",
       "      <th>Emp Cat1</th>\n",
       "      <th>Emp Cat2</th>\n",
       "      <th>Monthly income</th>\n",
       "      <th>...</th>\n",
       "      <th>Bank account type</th>\n",
       "      <th>Marketing source</th>\n",
       "      <th>Marketing Cat1</th>\n",
       "      <th>Marketing Cat2</th>\n",
       "      <th>Current loan installment</th>\n",
       "      <th>Requested Loan Amount</th>\n",
       "      <th>Loan Repayment (Year)</th>\n",
       "      <th>Interest Rate</th>\n",
       "      <th>Requested Loan Installment</th>\n",
       "      <th>class</th>\n",
       "    </tr>\n",
       "  </thead>\n",
       "  <tbody>\n",
       "    <tr>\n",
       "      <th>0</th>\n",
       "      <td>-2267620335683202440</td>\n",
       "      <td>0</td>\n",
       "      <td>1992-08-19</td>\n",
       "      <td>2016-07-26</td>\n",
       "      <td>4195062457429987311</td>\n",
       "      <td>1.0</td>\n",
       "      <td>5451653042631526903</td>\n",
       "      <td>2.0</td>\n",
       "      <td>4.0</td>\n",
       "      <td>2415.000</td>\n",
       "      <td>...</td>\n",
       "      <td>2.0</td>\n",
       "      <td>5</td>\n",
       "      <td>3</td>\n",
       "      <td>4</td>\n",
       "      <td>0.00</td>\n",
       "      <td>40950.0</td>\n",
       "      <td>5.0</td>\n",
       "      <td>NaN</td>\n",
       "      <td>0.00</td>\n",
       "      <td>0</td>\n",
       "    </tr>\n",
       "    <tr>\n",
       "      <th>1</th>\n",
       "      <td>6983777496993703358</td>\n",
       "      <td>1</td>\n",
       "      <td>1975-03-17</td>\n",
       "      <td>2016-02-14</td>\n",
       "      <td>-6228735452334436716</td>\n",
       "      <td>3.0</td>\n",
       "      <td>8322794614403</td>\n",
       "      <td>NaN</td>\n",
       "      <td>NaN</td>\n",
       "      <td>2625.000</td>\n",
       "      <td>...</td>\n",
       "      <td>NaN</td>\n",
       "      <td>1</td>\n",
       "      <td>7</td>\n",
       "      <td>0</td>\n",
       "      <td>0.00</td>\n",
       "      <td>NaN</td>\n",
       "      <td>NaN</td>\n",
       "      <td>NaN</td>\n",
       "      <td>0.00</td>\n",
       "      <td>0</td>\n",
       "    </tr>\n",
       "    <tr>\n",
       "      <th>2</th>\n",
       "      <td>-9000875829172115247</td>\n",
       "      <td>1</td>\n",
       "      <td>1983-04-07</td>\n",
       "      <td>2016-07-27</td>\n",
       "      <td>4195062457429987311</td>\n",
       "      <td>1.0</td>\n",
       "      <td>7958738730440449375</td>\n",
       "      <td>2.0</td>\n",
       "      <td>4.0</td>\n",
       "      <td>6772.500</td>\n",
       "      <td>...</td>\n",
       "      <td>1.0</td>\n",
       "      <td>4</td>\n",
       "      <td>2</td>\n",
       "      <td>10</td>\n",
       "      <td>2063.04</td>\n",
       "      <td>21000.0</td>\n",
       "      <td>5.0</td>\n",
       "      <td>15.190</td>\n",
       "      <td>2063.04</td>\n",
       "      <td>0</td>\n",
       "    </tr>\n",
       "    <tr>\n",
       "      <th>3</th>\n",
       "      <td>4577133526371079450</td>\n",
       "      <td>0</td>\n",
       "      <td>1975-01-23</td>\n",
       "      <td>2016-08-23</td>\n",
       "      <td>630300624900511972</td>\n",
       "      <td>1.0</td>\n",
       "      <td>-5322077886952523742</td>\n",
       "      <td>1.0</td>\n",
       "      <td>3.0</td>\n",
       "      <td>7980.000</td>\n",
       "      <td>...</td>\n",
       "      <td>1.0</td>\n",
       "      <td>4</td>\n",
       "      <td>2</td>\n",
       "      <td>10</td>\n",
       "      <td>1575.00</td>\n",
       "      <td>NaN</td>\n",
       "      <td>NaN</td>\n",
       "      <td>NaN</td>\n",
       "      <td>1575.00</td>\n",
       "      <td>0</td>\n",
       "    </tr>\n",
       "    <tr>\n",
       "      <th>4</th>\n",
       "      <td>5683986052858780477</td>\n",
       "      <td>0</td>\n",
       "      <td>1994-06-27</td>\n",
       "      <td>2016-07-21</td>\n",
       "      <td>4195062457429987311</td>\n",
       "      <td>1.0</td>\n",
       "      <td>-974246632625402816</td>\n",
       "      <td>2.0</td>\n",
       "      <td>4.0</td>\n",
       "      <td>945.000</td>\n",
       "      <td>...</td>\n",
       "      <td>1.0</td>\n",
       "      <td>4</td>\n",
       "      <td>3</td>\n",
       "      <td>0</td>\n",
       "      <td>0.00</td>\n",
       "      <td>NaN</td>\n",
       "      <td>NaN</td>\n",
       "      <td>NaN</td>\n",
       "      <td>0.00</td>\n",
       "      <td>0</td>\n",
       "    </tr>\n",
       "    <tr>\n",
       "      <th>...</th>\n",
       "      <td>...</td>\n",
       "      <td>...</td>\n",
       "      <td>...</td>\n",
       "      <td>...</td>\n",
       "      <td>...</td>\n",
       "      <td>...</td>\n",
       "      <td>...</td>\n",
       "      <td>...</td>\n",
       "      <td>...</td>\n",
       "      <td>...</td>\n",
       "      <td>...</td>\n",
       "      <td>...</td>\n",
       "      <td>...</td>\n",
       "      <td>...</td>\n",
       "      <td>...</td>\n",
       "      <td>...</td>\n",
       "      <td>...</td>\n",
       "      <td>...</td>\n",
       "      <td>...</td>\n",
       "      <td>...</td>\n",
       "      <td>...</td>\n",
       "    </tr>\n",
       "    <tr>\n",
       "      <th>55755</th>\n",
       "      <td>6797779403213407867</td>\n",
       "      <td>1</td>\n",
       "      <td>1989-10-14</td>\n",
       "      <td>2016-02-13</td>\n",
       "      <td>7661641590761461231</td>\n",
       "      <td>2.0</td>\n",
       "      <td>2481757572251108759</td>\n",
       "      <td>1.0</td>\n",
       "      <td>4.0</td>\n",
       "      <td>3675.000</td>\n",
       "      <td>...</td>\n",
       "      <td>1.0</td>\n",
       "      <td>6</td>\n",
       "      <td>2</td>\n",
       "      <td>10</td>\n",
       "      <td>242.55</td>\n",
       "      <td>26250.0</td>\n",
       "      <td>4.0</td>\n",
       "      <td>14.553</td>\n",
       "      <td>242.55</td>\n",
       "      <td>0</td>\n",
       "    </tr>\n",
       "    <tr>\n",
       "      <th>55756</th>\n",
       "      <td>3734307013326764244</td>\n",
       "      <td>0</td>\n",
       "      <td>1991-01-12</td>\n",
       "      <td>2016-07-24</td>\n",
       "      <td>1322416564569257070</td>\n",
       "      <td>1.0</td>\n",
       "      <td>3409321549050670041</td>\n",
       "      <td>2.0</td>\n",
       "      <td>4.0</td>\n",
       "      <td>2100.000</td>\n",
       "      <td>...</td>\n",
       "      <td>2.0</td>\n",
       "      <td>5</td>\n",
       "      <td>2</td>\n",
       "      <td>4</td>\n",
       "      <td>0.00</td>\n",
       "      <td>47250.0</td>\n",
       "      <td>5.0</td>\n",
       "      <td>19.600</td>\n",
       "      <td>0.00</td>\n",
       "      <td>0</td>\n",
       "    </tr>\n",
       "    <tr>\n",
       "      <th>55757</th>\n",
       "      <td>7053200079724995837</td>\n",
       "      <td>0</td>\n",
       "      <td>1987-10-27</td>\n",
       "      <td>2016-10-05</td>\n",
       "      <td>-6089507668103549947</td>\n",
       "      <td>3.0</td>\n",
       "      <td>5519217478565879082</td>\n",
       "      <td>1.0</td>\n",
       "      <td>4.0</td>\n",
       "      <td>2047.500</td>\n",
       "      <td>...</td>\n",
       "      <td>1.0</td>\n",
       "      <td>1</td>\n",
       "      <td>7</td>\n",
       "      <td>0</td>\n",
       "      <td>840.00</td>\n",
       "      <td>NaN</td>\n",
       "      <td>NaN</td>\n",
       "      <td>NaN</td>\n",
       "      <td>840.00</td>\n",
       "      <td>0</td>\n",
       "    </tr>\n",
       "    <tr>\n",
       "      <th>55758</th>\n",
       "      <td>5563488093892579957</td>\n",
       "      <td>0</td>\n",
       "      <td>1994-11-01</td>\n",
       "      <td>2016-07-23</td>\n",
       "      <td>4195062457429987311</td>\n",
       "      <td>1.0</td>\n",
       "      <td>7616879545308871088</td>\n",
       "      <td>2.0</td>\n",
       "      <td>4.0</td>\n",
       "      <td>1451.835</td>\n",
       "      <td>...</td>\n",
       "      <td>1.0</td>\n",
       "      <td>4</td>\n",
       "      <td>2</td>\n",
       "      <td>0</td>\n",
       "      <td>441.00</td>\n",
       "      <td>NaN</td>\n",
       "      <td>NaN</td>\n",
       "      <td>NaN</td>\n",
       "      <td>441.00</td>\n",
       "      <td>0</td>\n",
       "    </tr>\n",
       "    <tr>\n",
       "      <th>55759</th>\n",
       "      <td>-862685425099992876</td>\n",
       "      <td>1</td>\n",
       "      <td>1985-09-02</td>\n",
       "      <td>2016-08-03</td>\n",
       "      <td>757457228617119463</td>\n",
       "      <td>2.0</td>\n",
       "      <td>-856474502062988360</td>\n",
       "      <td>1.0</td>\n",
       "      <td>4.0</td>\n",
       "      <td>1995.000</td>\n",
       "      <td>...</td>\n",
       "      <td>1.0</td>\n",
       "      <td>4</td>\n",
       "      <td>3</td>\n",
       "      <td>2</td>\n",
       "      <td>0.00</td>\n",
       "      <td>45150.0</td>\n",
       "      <td>5.0</td>\n",
       "      <td>19.600</td>\n",
       "      <td>0.00</td>\n",
       "      <td>0</td>\n",
       "    </tr>\n",
       "  </tbody>\n",
       "</table>\n",
       "<p>55760 rows × 21 columns</p>\n",
       "</div>"
      ],
      "text/plain": [
       "                        ID  Gender         DOB Lead Creation Date  \\\n",
       "0     -2267620335683202440       0  1992-08-19         2016-07-26   \n",
       "1      6983777496993703358       1  1975-03-17         2016-02-14   \n",
       "2     -9000875829172115247       1  1983-04-07         2016-07-27   \n",
       "3      4577133526371079450       0  1975-01-23         2016-08-23   \n",
       "4      5683986052858780477       0  1994-06-27         2016-07-21   \n",
       "...                    ...     ...         ...                ...   \n",
       "55755  6797779403213407867       1  1989-10-14         2016-02-13   \n",
       "55756  3734307013326764244       0  1991-01-12         2016-07-24   \n",
       "55757  7053200079724995837       0  1987-10-27         2016-10-05   \n",
       "55758  5563488093892579957       0  1994-11-01         2016-07-23   \n",
       "55759  -862685425099992876       1  1985-09-02         2016-08-03   \n",
       "\n",
       "                 City code  Area code        Employer code  Emp Cat1  \\\n",
       "0      4195062457429987311        1.0  5451653042631526903       2.0   \n",
       "1     -6228735452334436716        3.0        8322794614403       NaN   \n",
       "2      4195062457429987311        1.0  7958738730440449375       2.0   \n",
       "3       630300624900511972        1.0 -5322077886952523742       1.0   \n",
       "4      4195062457429987311        1.0  -974246632625402816       2.0   \n",
       "...                    ...        ...                  ...       ...   \n",
       "55755  7661641590761461231        2.0  2481757572251108759       1.0   \n",
       "55756  1322416564569257070        1.0  3409321549050670041       2.0   \n",
       "55757 -6089507668103549947        3.0  5519217478565879082       1.0   \n",
       "55758  4195062457429987311        1.0  7616879545308871088       2.0   \n",
       "55759   757457228617119463        2.0  -856474502062988360       1.0   \n",
       "\n",
       "       Emp Cat2  Monthly income  ...  Bank account type  Marketing source  \\\n",
       "0           4.0        2415.000  ...                2.0                 5   \n",
       "1           NaN        2625.000  ...                NaN                 1   \n",
       "2           4.0        6772.500  ...                1.0                 4   \n",
       "3           3.0        7980.000  ...                1.0                 4   \n",
       "4           4.0         945.000  ...                1.0                 4   \n",
       "...         ...             ...  ...                ...               ...   \n",
       "55755       4.0        3675.000  ...                1.0                 6   \n",
       "55756       4.0        2100.000  ...                2.0                 5   \n",
       "55757       4.0        2047.500  ...                1.0                 1   \n",
       "55758       4.0        1451.835  ...                1.0                 4   \n",
       "55759       4.0        1995.000  ...                1.0                 4   \n",
       "\n",
       "       Marketing Cat1  Marketing Cat2  Current loan installment  \\\n",
       "0                   3               4                      0.00   \n",
       "1                   7               0                      0.00   \n",
       "2                   2              10                   2063.04   \n",
       "3                   2              10                   1575.00   \n",
       "4                   3               0                      0.00   \n",
       "...               ...             ...                       ...   \n",
       "55755               2              10                    242.55   \n",
       "55756               2               4                      0.00   \n",
       "55757               7               0                    840.00   \n",
       "55758               2               0                    441.00   \n",
       "55759               3               2                      0.00   \n",
       "\n",
       "       Requested Loan Amount  Loan Repayment (Year)  Interest Rate  \\\n",
       "0                    40950.0                    5.0            NaN   \n",
       "1                        NaN                    NaN            NaN   \n",
       "2                    21000.0                    5.0         15.190   \n",
       "3                        NaN                    NaN            NaN   \n",
       "4                        NaN                    NaN            NaN   \n",
       "...                      ...                    ...            ...   \n",
       "55755                26250.0                    4.0         14.553   \n",
       "55756                47250.0                    5.0         19.600   \n",
       "55757                    NaN                    NaN            NaN   \n",
       "55758                    NaN                    NaN            NaN   \n",
       "55759                45150.0                    5.0         19.600   \n",
       "\n",
       "       Requested Loan Installment  class  \n",
       "0                            0.00      0  \n",
       "1                            0.00      0  \n",
       "2                         2063.04      0  \n",
       "3                         1575.00      0  \n",
       "4                            0.00      0  \n",
       "...                           ...    ...  \n",
       "55755                      242.55      0  \n",
       "55756                        0.00      0  \n",
       "55757                      840.00      0  \n",
       "55758                      441.00      0  \n",
       "55759                        0.00      0  \n",
       "\n",
       "[55760 rows x 21 columns]"
      ]
     },
     "metadata": {},
     "output_type": "display_data"
    },
    {
     "data": {
      "text/html": [
       "<div>\n",
       "<style scoped>\n",
       "    .dataframe tbody tr th:only-of-type {\n",
       "        vertical-align: middle;\n",
       "    }\n",
       "\n",
       "    .dataframe tbody tr th {\n",
       "        vertical-align: top;\n",
       "    }\n",
       "\n",
       "    .dataframe thead th {\n",
       "        text-align: right;\n",
       "    }\n",
       "</style>\n",
       "<table border=\"1\" class=\"dataframe\">\n",
       "  <thead>\n",
       "    <tr style=\"text-align: right;\">\n",
       "      <th></th>\n",
       "      <th>ID</th>\n",
       "      <th>Gender</th>\n",
       "      <th>DOB</th>\n",
       "      <th>Lead Creation Date</th>\n",
       "      <th>City code</th>\n",
       "      <th>Area code</th>\n",
       "      <th>Employer code</th>\n",
       "      <th>Emp Cat1</th>\n",
       "      <th>Emp Cat2</th>\n",
       "      <th>Monthly income</th>\n",
       "      <th>Bank code</th>\n",
       "      <th>Bank account type</th>\n",
       "      <th>Marketing source</th>\n",
       "      <th>Marketing Cat1</th>\n",
       "      <th>Marketing Cat2</th>\n",
       "      <th>Current loan installment</th>\n",
       "      <th>Requested Loan Amount</th>\n",
       "      <th>Loan Repayment (Year)</th>\n",
       "      <th>Interest Rate</th>\n",
       "      <th>Requested Loan Installment</th>\n",
       "    </tr>\n",
       "  </thead>\n",
       "  <tbody>\n",
       "    <tr>\n",
       "      <th>0</th>\n",
       "      <td>4994603093964685097</td>\n",
       "      <td>1</td>\n",
       "      <td>1976-05-28</td>\n",
       "      <td>2016-08-27</td>\n",
       "      <td>5969016085647965848</td>\n",
       "      <td>3.0</td>\n",
       "      <td>-1583851805195383176</td>\n",
       "      <td>1.0</td>\n",
       "      <td>4.0</td>\n",
       "      <td>1155.0</td>\n",
       "      <td>-4438975989796485538</td>\n",
       "      <td>2.0</td>\n",
       "      <td>4</td>\n",
       "      <td>2</td>\n",
       "      <td>2</td>\n",
       "      <td>176.925</td>\n",
       "      <td>10500.0</td>\n",
       "      <td>4.0</td>\n",
       "      <td>34.790</td>\n",
       "      <td>176.925</td>\n",
       "    </tr>\n",
       "    <tr>\n",
       "      <th>1</th>\n",
       "      <td>6719898245964184851</td>\n",
       "      <td>1</td>\n",
       "      <td>1986-05-22</td>\n",
       "      <td>2016-06-12</td>\n",
       "      <td>3466152762937442713</td>\n",
       "      <td>1.0</td>\n",
       "      <td>3291646035407655386</td>\n",
       "      <td>2.0</td>\n",
       "      <td>4.0</td>\n",
       "      <td>3150.0</td>\n",
       "      <td>-5682066992016760665</td>\n",
       "      <td>1.0</td>\n",
       "      <td>1</td>\n",
       "      <td>2</td>\n",
       "      <td>10</td>\n",
       "      <td>1155.000</td>\n",
       "      <td>34650.0</td>\n",
       "      <td>4.0</td>\n",
       "      <td>NaN</td>\n",
       "      <td>1155.000</td>\n",
       "    </tr>\n",
       "    <tr>\n",
       "      <th>2</th>\n",
       "      <td>1194292741480147233</td>\n",
       "      <td>1</td>\n",
       "      <td>1992-09-24</td>\n",
       "      <td>2016-10-13</td>\n",
       "      <td>-5413728021433296369</td>\n",
       "      <td>1.0</td>\n",
       "      <td>-5282084624191443479</td>\n",
       "      <td>1.0</td>\n",
       "      <td>4.0</td>\n",
       "      <td>2310.0</td>\n",
       "      <td>4934588897315644940</td>\n",
       "      <td>1.0</td>\n",
       "      <td>4</td>\n",
       "      <td>3</td>\n",
       "      <td>2</td>\n",
       "      <td>0.000</td>\n",
       "      <td>33600.0</td>\n",
       "      <td>5.0</td>\n",
       "      <td>19.600</td>\n",
       "      <td>0.000</td>\n",
       "    </tr>\n",
       "    <tr>\n",
       "      <th>3</th>\n",
       "      <td>3961870163330977259</td>\n",
       "      <td>0</td>\n",
       "      <td>1994-02-05</td>\n",
       "      <td>2016-03-12</td>\n",
       "      <td>-5413728021433296369</td>\n",
       "      <td>1.0</td>\n",
       "      <td>768741222651021646</td>\n",
       "      <td>2.0</td>\n",
       "      <td>4.0</td>\n",
       "      <td>1470.0</td>\n",
       "      <td>-4438975989796485538</td>\n",
       "      <td>2.0</td>\n",
       "      <td>4</td>\n",
       "      <td>3</td>\n",
       "      <td>0</td>\n",
       "      <td>0.000</td>\n",
       "      <td>NaN</td>\n",
       "      <td>NaN</td>\n",
       "      <td>NaN</td>\n",
       "      <td>0.000</td>\n",
       "    </tr>\n",
       "    <tr>\n",
       "      <th>4</th>\n",
       "      <td>-275724253865532087</td>\n",
       "      <td>0</td>\n",
       "      <td>1992-08-22</td>\n",
       "      <td>2016-09-23</td>\n",
       "      <td>630300624900511972</td>\n",
       "      <td>1.0</td>\n",
       "      <td>-2992289926877962833</td>\n",
       "      <td>2.0</td>\n",
       "      <td>4.0</td>\n",
       "      <td>2415.0</td>\n",
       "      <td>-4438975989796485538</td>\n",
       "      <td>2.0</td>\n",
       "      <td>1</td>\n",
       "      <td>7</td>\n",
       "      <td>4</td>\n",
       "      <td>472.500</td>\n",
       "      <td>NaN</td>\n",
       "      <td>NaN</td>\n",
       "      <td>NaN</td>\n",
       "      <td>472.500</td>\n",
       "    </tr>\n",
       "    <tr>\n",
       "      <th>...</th>\n",
       "      <td>...</td>\n",
       "      <td>...</td>\n",
       "      <td>...</td>\n",
       "      <td>...</td>\n",
       "      <td>...</td>\n",
       "      <td>...</td>\n",
       "      <td>...</td>\n",
       "      <td>...</td>\n",
       "      <td>...</td>\n",
       "      <td>...</td>\n",
       "      <td>...</td>\n",
       "      <td>...</td>\n",
       "      <td>...</td>\n",
       "      <td>...</td>\n",
       "      <td>...</td>\n",
       "      <td>...</td>\n",
       "      <td>...</td>\n",
       "      <td>...</td>\n",
       "      <td>...</td>\n",
       "      <td>...</td>\n",
       "    </tr>\n",
       "    <tr>\n",
       "      <th>13935</th>\n",
       "      <td>8633405915199646970</td>\n",
       "      <td>0</td>\n",
       "      <td>1990-12-22</td>\n",
       "      <td>2016-09-21</td>\n",
       "      <td>630300624900511972</td>\n",
       "      <td>1.0</td>\n",
       "      <td>-5122065470464514482</td>\n",
       "      <td>1.0</td>\n",
       "      <td>4.0</td>\n",
       "      <td>5932.5</td>\n",
       "      <td>-2894846774513267556</td>\n",
       "      <td>1.0</td>\n",
       "      <td>1</td>\n",
       "      <td>7</td>\n",
       "      <td>10</td>\n",
       "      <td>0.000</td>\n",
       "      <td>NaN</td>\n",
       "      <td>NaN</td>\n",
       "      <td>NaN</td>\n",
       "      <td>0.000</td>\n",
       "    </tr>\n",
       "    <tr>\n",
       "      <th>13936</th>\n",
       "      <td>8771549977412369984</td>\n",
       "      <td>0</td>\n",
       "      <td>1985-07-30</td>\n",
       "      <td>2016-09-22</td>\n",
       "      <td>8322794614403</td>\n",
       "      <td>NaN</td>\n",
       "      <td>8631178485930553909</td>\n",
       "      <td>3.0</td>\n",
       "      <td>4.0</td>\n",
       "      <td>2625.0</td>\n",
       "      <td>8322794614403</td>\n",
       "      <td>NaN</td>\n",
       "      <td>1</td>\n",
       "      <td>7</td>\n",
       "      <td>0</td>\n",
       "      <td>0.000</td>\n",
       "      <td>NaN</td>\n",
       "      <td>NaN</td>\n",
       "      <td>NaN</td>\n",
       "      <td>0.000</td>\n",
       "    </tr>\n",
       "    <tr>\n",
       "      <th>13937</th>\n",
       "      <td>3975323562176563348</td>\n",
       "      <td>1</td>\n",
       "      <td>1987-04-28</td>\n",
       "      <td>2016-01-14</td>\n",
       "      <td>4195062457429987311</td>\n",
       "      <td>1.0</td>\n",
       "      <td>7949572066056611526</td>\n",
       "      <td>2.0</td>\n",
       "      <td>4.0</td>\n",
       "      <td>1942.5</td>\n",
       "      <td>4934588897315644940</td>\n",
       "      <td>1.0</td>\n",
       "      <td>1</td>\n",
       "      <td>7</td>\n",
       "      <td>2</td>\n",
       "      <td>157.500</td>\n",
       "      <td>31500.0</td>\n",
       "      <td>5.0</td>\n",
       "      <td>17.885</td>\n",
       "      <td>157.500</td>\n",
       "    </tr>\n",
       "    <tr>\n",
       "      <th>13938</th>\n",
       "      <td>-4797734754001333778</td>\n",
       "      <td>1</td>\n",
       "      <td>1976-06-19</td>\n",
       "      <td>2016-09-27</td>\n",
       "      <td>4195062457429987311</td>\n",
       "      <td>1.0</td>\n",
       "      <td>194240131177123668</td>\n",
       "      <td>2.0</td>\n",
       "      <td>4.0</td>\n",
       "      <td>1732.5</td>\n",
       "      <td>4934588897315644940</td>\n",
       "      <td>1.0</td>\n",
       "      <td>1</td>\n",
       "      <td>7</td>\n",
       "      <td>2</td>\n",
       "      <td>0.000</td>\n",
       "      <td>27300.0</td>\n",
       "      <td>4.0</td>\n",
       "      <td>30.870</td>\n",
       "      <td>0.000</td>\n",
       "    </tr>\n",
       "    <tr>\n",
       "      <th>13939</th>\n",
       "      <td>1087822462998679529</td>\n",
       "      <td>0</td>\n",
       "      <td>1984-03-03</td>\n",
       "      <td>2016-07-18</td>\n",
       "      <td>3782342448181408906</td>\n",
       "      <td>1.0</td>\n",
       "      <td>1447463489554380912</td>\n",
       "      <td>3.0</td>\n",
       "      <td>1.0</td>\n",
       "      <td>11445.0</td>\n",
       "      <td>-2629564825712250164</td>\n",
       "      <td>1.0</td>\n",
       "      <td>2</td>\n",
       "      <td>2</td>\n",
       "      <td>7</td>\n",
       "      <td>3937.500</td>\n",
       "      <td>NaN</td>\n",
       "      <td>NaN</td>\n",
       "      <td>NaN</td>\n",
       "      <td>3937.500</td>\n",
       "    </tr>\n",
       "  </tbody>\n",
       "</table>\n",
       "<p>13940 rows × 20 columns</p>\n",
       "</div>"
      ],
      "text/plain": [
       "                        ID  Gender         DOB Lead Creation Date  \\\n",
       "0      4994603093964685097       1  1976-05-28         2016-08-27   \n",
       "1      6719898245964184851       1  1986-05-22         2016-06-12   \n",
       "2      1194292741480147233       1  1992-09-24         2016-10-13   \n",
       "3      3961870163330977259       0  1994-02-05         2016-03-12   \n",
       "4      -275724253865532087       0  1992-08-22         2016-09-23   \n",
       "...                    ...     ...         ...                ...   \n",
       "13935  8633405915199646970       0  1990-12-22         2016-09-21   \n",
       "13936  8771549977412369984       0  1985-07-30         2016-09-22   \n",
       "13937  3975323562176563348       1  1987-04-28         2016-01-14   \n",
       "13938 -4797734754001333778       1  1976-06-19         2016-09-27   \n",
       "13939  1087822462998679529       0  1984-03-03         2016-07-18   \n",
       "\n",
       "                 City code  Area code        Employer code  Emp Cat1  \\\n",
       "0      5969016085647965848        3.0 -1583851805195383176       1.0   \n",
       "1      3466152762937442713        1.0  3291646035407655386       2.0   \n",
       "2     -5413728021433296369        1.0 -5282084624191443479       1.0   \n",
       "3     -5413728021433296369        1.0   768741222651021646       2.0   \n",
       "4       630300624900511972        1.0 -2992289926877962833       2.0   \n",
       "...                    ...        ...                  ...       ...   \n",
       "13935   630300624900511972        1.0 -5122065470464514482       1.0   \n",
       "13936        8322794614403        NaN  8631178485930553909       3.0   \n",
       "13937  4195062457429987311        1.0  7949572066056611526       2.0   \n",
       "13938  4195062457429987311        1.0   194240131177123668       2.0   \n",
       "13939  3782342448181408906        1.0  1447463489554380912       3.0   \n",
       "\n",
       "       Emp Cat2  Monthly income            Bank code  Bank account type  \\\n",
       "0           4.0          1155.0 -4438975989796485538                2.0   \n",
       "1           4.0          3150.0 -5682066992016760665                1.0   \n",
       "2           4.0          2310.0  4934588897315644940                1.0   \n",
       "3           4.0          1470.0 -4438975989796485538                2.0   \n",
       "4           4.0          2415.0 -4438975989796485538                2.0   \n",
       "...         ...             ...                  ...                ...   \n",
       "13935       4.0          5932.5 -2894846774513267556                1.0   \n",
       "13936       4.0          2625.0        8322794614403                NaN   \n",
       "13937       4.0          1942.5  4934588897315644940                1.0   \n",
       "13938       4.0          1732.5  4934588897315644940                1.0   \n",
       "13939       1.0         11445.0 -2629564825712250164                1.0   \n",
       "\n",
       "       Marketing source  Marketing Cat1  Marketing Cat2  \\\n",
       "0                     4               2               2   \n",
       "1                     1               2              10   \n",
       "2                     4               3               2   \n",
       "3                     4               3               0   \n",
       "4                     1               7               4   \n",
       "...                 ...             ...             ...   \n",
       "13935                 1               7              10   \n",
       "13936                 1               7               0   \n",
       "13937                 1               7               2   \n",
       "13938                 1               7               2   \n",
       "13939                 2               2               7   \n",
       "\n",
       "       Current loan installment  Requested Loan Amount  Loan Repayment (Year)  \\\n",
       "0                       176.925                10500.0                    4.0   \n",
       "1                      1155.000                34650.0                    4.0   \n",
       "2                         0.000                33600.0                    5.0   \n",
       "3                         0.000                    NaN                    NaN   \n",
       "4                       472.500                    NaN                    NaN   \n",
       "...                         ...                    ...                    ...   \n",
       "13935                     0.000                    NaN                    NaN   \n",
       "13936                     0.000                    NaN                    NaN   \n",
       "13937                   157.500                31500.0                    5.0   \n",
       "13938                     0.000                27300.0                    4.0   \n",
       "13939                  3937.500                    NaN                    NaN   \n",
       "\n",
       "       Interest Rate  Requested Loan Installment  \n",
       "0             34.790                     176.925  \n",
       "1                NaN                    1155.000  \n",
       "2             19.600                       0.000  \n",
       "3                NaN                       0.000  \n",
       "4                NaN                     472.500  \n",
       "...              ...                         ...  \n",
       "13935            NaN                       0.000  \n",
       "13936            NaN                       0.000  \n",
       "13937         17.885                     157.500  \n",
       "13938         30.870                       0.000  \n",
       "13939            NaN                    3937.500  \n",
       "\n",
       "[13940 rows x 20 columns]"
      ]
     },
     "metadata": {},
     "output_type": "display_data"
    }
   ],
   "source": [
    "test_col_names = [\"ID\",\"Gender\",\"DOB\",\"Lead Creation Date\",\"City code\", \"Area code\",\"Employer code\",\\\n",
    "              \"Emp Cat1\",\"Emp Cat2\", \"Monthly income\", \"Bank code\", \"Bank account type\",\\\n",
    "              \"Marketing source\",\"Marketing Cat1\", \"Marketing Cat2\", \"Current loan installment\",\\\n",
    "              \"Requested Loan Amount\",\"Loan Repayment (Year)\", \"Interest Rate\",\"Requested Loan Installment\"]\n",
    "train_col_names = test_col_names.copy()\n",
    "train_col_names.append(\"class\")\n",
    "\n",
    "#reassign the column names\n",
    "data_train = data_train.set_axis(train_col_names, axis=1)\n",
    "data_test = data_test.set_axis(test_col_names, axis=1)\n",
    "\n",
    "display(data_train)\n",
    "display(data_test)"
   ]
  },
  {
   "cell_type": "code",
   "execution_count": 6,
   "id": "b8897575",
   "metadata": {
    "execution": {
     "iopub.execute_input": "2024-03-29T16:49:47.725079Z",
     "iopub.status.busy": "2024-03-29T16:49:47.724424Z",
     "iopub.status.idle": "2024-03-29T16:49:47.734967Z",
     "shell.execute_reply": "2024-03-29T16:49:47.734193Z"
    },
    "papermill": {
     "duration": 0.028425,
     "end_time": "2024-03-29T16:49:47.737198",
     "exception": false,
     "start_time": "2024-03-29T16:49:47.708773",
     "status": "completed"
    },
    "tags": []
   },
   "outputs": [],
   "source": [
    "#drop id, dates column\n",
    "\n",
    "data_train.drop(['ID','DOB','Lead Creation Date'], axis=1, inplace=True)\n",
    "data_test.drop(['ID','DOB','Lead Creation Date'], axis=1, inplace=True)"
   ]
  },
  {
   "cell_type": "code",
   "execution_count": 7,
   "id": "152a50b7",
   "metadata": {
    "execution": {
     "iopub.execute_input": "2024-03-29T16:49:47.767244Z",
     "iopub.status.busy": "2024-03-29T16:49:47.766567Z",
     "iopub.status.idle": "2024-03-29T16:49:47.776567Z",
     "shell.execute_reply": "2024-03-29T16:49:47.775564Z"
    },
    "papermill": {
     "duration": 0.027491,
     "end_time": "2024-03-29T16:49:47.778770",
     "exception": false,
     "start_time": "2024-03-29T16:49:47.751279",
     "status": "completed"
    },
    "tags": []
   },
   "outputs": [
    {
     "data": {
      "text/plain": [
       "Gender                            0\n",
       "City code                         0\n",
       "Area code                       658\n",
       "Employer code                     0\n",
       "Emp Cat1                       3193\n",
       "Emp Cat2                       3424\n",
       "Monthly income                    0\n",
       "Bank code                         0\n",
       "Bank account type              7471\n",
       "Marketing source                  0\n",
       "Marketing Cat1                    0\n",
       "Marketing Cat2                    0\n",
       "Current loan installment         41\n",
       "Requested Loan Amount         22131\n",
       "Loan Repayment (Year)         22131\n",
       "Interest Rate                 37941\n",
       "Requested Loan Installment       41\n",
       "class                             0\n",
       "dtype: int64"
      ]
     },
     "execution_count": 7,
     "metadata": {},
     "output_type": "execute_result"
    }
   ],
   "source": [
    "data_train.isna().sum()"
   ]
  },
  {
   "cell_type": "code",
   "execution_count": 8,
   "id": "c6455ed7",
   "metadata": {
    "execution": {
     "iopub.execute_input": "2024-03-29T16:49:47.808310Z",
     "iopub.status.busy": "2024-03-29T16:49:47.807894Z",
     "iopub.status.idle": "2024-03-29T16:49:47.817736Z",
     "shell.execute_reply": "2024-03-29T16:49:47.816242Z"
    },
    "papermill": {
     "duration": 0.027332,
     "end_time": "2024-03-29T16:49:47.819997",
     "exception": false,
     "start_time": "2024-03-29T16:49:47.792665",
     "status": "completed"
    },
    "tags": []
   },
   "outputs": [
    {
     "data": {
      "text/plain": [
       "Gender                           0\n",
       "City code                        0\n",
       "Area code                      156\n",
       "Employer code                    0\n",
       "Emp Cat1                       825\n",
       "Emp Cat2                       874\n",
       "Monthly income                   0\n",
       "Bank code                        0\n",
       "Bank account type             1917\n",
       "Marketing source                 0\n",
       "Marketing Cat1                   0\n",
       "Marketing Cat2                   0\n",
       "Current loan installment        10\n",
       "Requested Loan Amount         5574\n",
       "Loan Repayment (Year)         5574\n",
       "Interest Rate                 9488\n",
       "Requested Loan Installment      10\n",
       "dtype: int64"
      ]
     },
     "execution_count": 8,
     "metadata": {},
     "output_type": "execute_result"
    }
   ],
   "source": [
    "data_test.isna().sum()"
   ]
  },
  {
   "cell_type": "code",
   "execution_count": 9,
   "id": "040ab705",
   "metadata": {
    "execution": {
     "iopub.execute_input": "2024-03-29T16:49:47.851285Z",
     "iopub.status.busy": "2024-03-29T16:49:47.850852Z",
     "iopub.status.idle": "2024-03-29T16:49:53.767319Z",
     "shell.execute_reply": "2024-03-29T16:49:53.766193Z"
    },
    "papermill": {
     "duration": 5.936635,
     "end_time": "2024-03-29T16:49:53.771611",
     "exception": false,
     "start_time": "2024-03-29T16:49:47.834976",
     "status": "completed"
    },
    "tags": []
   },
   "outputs": [
    {
     "data": {
      "text/plain": [
       "array([[<Axes: title={'center': 'Gender'}>,\n",
       "        <Axes: title={'center': 'City code'}>,\n",
       "        <Axes: title={'center': 'Area code'}>,\n",
       "        <Axes: title={'center': 'Employer code'}>],\n",
       "       [<Axes: title={'center': 'Emp Cat1'}>,\n",
       "        <Axes: title={'center': 'Emp Cat2'}>,\n",
       "        <Axes: title={'center': 'Monthly income'}>,\n",
       "        <Axes: title={'center': 'Bank code'}>],\n",
       "       [<Axes: title={'center': 'Bank account type'}>,\n",
       "        <Axes: title={'center': 'Marketing source'}>,\n",
       "        <Axes: title={'center': 'Marketing Cat1'}>,\n",
       "        <Axes: title={'center': 'Marketing Cat2'}>],\n",
       "       [<Axes: title={'center': 'Current loan installment'}>,\n",
       "        <Axes: title={'center': 'Requested Loan Amount'}>,\n",
       "        <Axes: title={'center': 'Loan Repayment (Year)'}>,\n",
       "        <Axes: title={'center': 'Interest Rate'}>],\n",
       "       [<Axes: title={'center': 'Requested Loan Installment'}>,\n",
       "        <Axes: title={'center': 'class'}>, <Axes: >, <Axes: >]],\n",
       "      dtype=object)"
      ]
     },
     "execution_count": 9,
     "metadata": {},
     "output_type": "execute_result"
    },
    {
     "data": {
      "image/png": "[encoded data removed]",
      "text/plain": [
       "<Figure size 1600x2000 with 20 Axes>"
      ]
     },
     "metadata": {},
     "output_type": "display_data"
    }
   ],
   "source": [
    "data_train.hist(figsize=(16, 20), bins=50, xlabelsize=8, ylabelsize=8)"
   ]
  },
  {
   "cell_type": "code",
   "execution_count": 10,
   "id": "519bf98d",
   "metadata": {
    "execution": {
     "iopub.execute_input": "2024-03-29T16:49:53.808228Z",
     "iopub.status.busy": "2024-03-29T16:49:53.807550Z",
     "iopub.status.idle": "2024-03-29T16:49:53.863249Z",
     "shell.execute_reply": "2024-03-29T16:49:53.862088Z"
    },
    "papermill": {
     "duration": 0.07739,
     "end_time": "2024-03-29T16:49:53.866212",
     "exception": false,
     "start_time": "2024-03-29T16:49:53.788822",
     "status": "completed"
    },
    "tags": []
   },
   "outputs": [
    {
     "name": "stdout",
     "output_type": "stream",
     "text": [
      "       Gender            City code  Area code        Employer code  Emp Cat1  \\\n",
      "0           0  4195062457429987311        1.0  5451653042631526903       2.0   \n",
      "1           1 -6228735452334436716        3.0        8322794614403       1.0   \n",
      "2           1  4195062457429987311        1.0  7958738730440449375       2.0   \n",
      "3           0   630300624900511972        1.0 -5322077886952523742       1.0   \n",
      "4           0  4195062457429987311        1.0  -974246632625402816       2.0   \n",
      "...       ...                  ...        ...                  ...       ...   \n",
      "55755       1  7661641590761461231        2.0  2481757572251108759       1.0   \n",
      "55756       0  1322416564569257070        1.0  3409321549050670041       2.0   \n",
      "55757       0 -6089507668103549947        3.0  5519217478565879082       1.0   \n",
      "55758       0  4195062457429987311        1.0  7616879545308871088       2.0   \n",
      "55759       1   757457228617119463        2.0  -856474502062988360       1.0   \n",
      "\n",
      "       Emp Cat2  Monthly income            Bank code  Bank account type  \\\n",
      "0           4.0        2415.000  3478590461776679480                2.0   \n",
      "1           4.0        2625.000        8322794614403                1.0   \n",
      "2           4.0        6772.500 -2629564825712250164                1.0   \n",
      "3           3.0        7980.000 -5682066992016760665                1.0   \n",
      "4           4.0         945.000  4934588897315644940                1.0   \n",
      "...         ...             ...                  ...                ...   \n",
      "55755       4.0        3675.000  4934588897315644940                1.0   \n",
      "55756       4.0        2100.000 -5180914999401718691                2.0   \n",
      "55757       4.0        2047.500  4934588897315644940                1.0   \n",
      "55758       4.0        1451.835 -2629564825712250164                1.0   \n",
      "55759       4.0        1995.000   807412966145887337                1.0   \n",
      "\n",
      "       Marketing source  Marketing Cat1  Marketing Cat2  \\\n",
      "0                     5               3               4   \n",
      "1                     1               7               0   \n",
      "2                     4               2              10   \n",
      "3                     4               2              10   \n",
      "4                     4               3               0   \n",
      "...                 ...             ...             ...   \n",
      "55755                 6               2              10   \n",
      "55756                 5               2               4   \n",
      "55757                 1               7               0   \n",
      "55758                 4               2               0   \n",
      "55759                 4               3               2   \n",
      "\n",
      "       Current loan installment  Requested Loan Amount  Loan Repayment (Year)  \\\n",
      "0                          0.00                40950.0                    5.0   \n",
      "1                          0.00                31500.0                    4.0   \n",
      "2                       2063.04                21000.0                    5.0   \n",
      "3                       1575.00                31500.0                    4.0   \n",
      "4                          0.00                31500.0                    4.0   \n",
      "...                         ...                    ...                    ...   \n",
      "55755                    242.55                26250.0                    4.0   \n",
      "55756                      0.00                47250.0                    5.0   \n",
      "55757                    840.00                31500.0                    4.0   \n",
      "55758                    441.00                31500.0                    4.0   \n",
      "55759                      0.00                45150.0                    5.0   \n",
      "\n",
      "       Interest Rate  Requested Loan Installment  class  \n",
      "0             17.640                        0.00      0  \n",
      "1             17.640                        0.00      0  \n",
      "2             15.190                     2063.04      0  \n",
      "3             17.640                     1575.00      0  \n",
      "4             17.640                        0.00      0  \n",
      "...              ...                         ...    ...  \n",
      "55755         14.553                      242.55      0  \n",
      "55756         19.600                        0.00      0  \n",
      "55757         17.640                      840.00      0  \n",
      "55758         17.640                      441.00      0  \n",
      "55759         19.600                        0.00      0  \n",
      "\n",
      "[55760 rows x 18 columns]\n"
     ]
    }
   ],
   "source": [
    "# Fill missing values with the mean of each column\n",
    "data_train = data_train.fillna(data_train.median())\n",
    "\n",
    "print(data_train)"
   ]
  },
  {
   "cell_type": "code",
   "execution_count": 11,
   "id": "fee3d987",
   "metadata": {
    "execution": {
     "iopub.execute_input": "2024-03-29T16:49:53.902090Z",
     "iopub.status.busy": "2024-03-29T16:49:53.901702Z",
     "iopub.status.idle": "2024-03-29T16:49:53.914662Z",
     "shell.execute_reply": "2024-03-29T16:49:53.913229Z"
    },
    "papermill": {
     "duration": 0.03371,
     "end_time": "2024-03-29T16:49:53.917065",
     "exception": false,
     "start_time": "2024-03-29T16:49:53.883355",
     "status": "completed"
    },
    "tags": []
   },
   "outputs": [
    {
     "data": {
      "text/plain": [
       "Gender                        0\n",
       "City code                     0\n",
       "Area code                     0\n",
       "Employer code                 0\n",
       "Emp Cat1                      0\n",
       "Emp Cat2                      0\n",
       "Monthly income                0\n",
       "Bank code                     0\n",
       "Bank account type             0\n",
       "Marketing source              0\n",
       "Marketing Cat1                0\n",
       "Marketing Cat2                0\n",
       "Current loan installment      0\n",
       "Requested Loan Amount         0\n",
       "Loan Repayment (Year)         0\n",
       "Interest Rate                 0\n",
       "Requested Loan Installment    0\n",
       "class                         0\n",
       "dtype: int64"
      ]
     },
     "execution_count": 11,
     "metadata": {},
     "output_type": "execute_result"
    }
   ],
   "source": [
    "data_train.isna().sum()"
   ]
  },
  {
   "cell_type": "code",
   "execution_count": 12,
   "id": "2174dc33",
   "metadata": {
    "execution": {
     "iopub.execute_input": "2024-03-29T16:49:53.952914Z",
     "iopub.status.busy": "2024-03-29T16:49:53.952515Z",
     "iopub.status.idle": "2024-03-29T16:49:53.962949Z",
     "shell.execute_reply": "2024-03-29T16:49:53.961591Z"
    },
    "papermill": {
     "duration": 0.031052,
     "end_time": "2024-03-29T16:49:53.965348",
     "exception": false,
     "start_time": "2024-03-29T16:49:53.934296",
     "status": "completed"
    },
    "tags": []
   },
   "outputs": [],
   "source": [
    "## independent and dependent variables\n",
    "X = data_train.drop(['class'], axis=1)\n",
    "y = data_train['class']"
   ]
  },
  {
   "cell_type": "code",
   "execution_count": 13,
   "id": "514ea7e3",
   "metadata": {
    "execution": {
     "iopub.execute_input": "2024-03-29T16:49:54.000693Z",
     "iopub.status.busy": "2024-03-29T16:49:54.000321Z",
     "iopub.status.idle": "2024-03-29T16:49:55.591118Z",
     "shell.execute_reply": "2024-03-29T16:49:55.590196Z"
    },
    "papermill": {
     "duration": 1.6113,
     "end_time": "2024-03-29T16:49:55.593330",
     "exception": false,
     "start_time": "2024-03-29T16:49:53.982030",
     "status": "completed"
    },
    "tags": []
   },
   "outputs": [
    {
     "name": "stdout",
     "output_type": "stream",
     "text": [
      "(44608, 17) (44608,)\n",
      "(11152, 17) (11152,)\n"
     ]
    }
   ],
   "source": [
    "## train test split 80:20\n",
    "from sklearn.model_selection import train_test_split\n",
    "X_train, X_test, y_train, y_test = train_test_split(X, y, test_size=0.20, random_state=42)\n",
    "print(X_train.shape, y_train.shape)\n",
    "print(X_test.shape, y_test.shape)"
   ]
  },
  {
   "cell_type": "code",
   "execution_count": 14,
   "id": "a7ee5c81",
   "metadata": {
    "execution": {
     "iopub.execute_input": "2024-03-29T16:49:55.629233Z",
     "iopub.status.busy": "2024-03-29T16:49:55.628592Z",
     "iopub.status.idle": "2024-03-29T16:49:55.657196Z",
     "shell.execute_reply": "2024-03-29T16:49:55.655991Z"
    },
    "papermill": {
     "duration": 0.049582,
     "end_time": "2024-03-29T16:49:55.659881",
     "exception": false,
     "start_time": "2024-03-29T16:49:55.610299",
     "status": "completed"
    },
    "tags": []
   },
   "outputs": [],
   "source": [
    "## feature scaling\n",
    "from sklearn.preprocessing import StandardScaler\n",
    "scaler = StandardScaler()\n",
    "X_train = scaler.fit_transform(X_train)\n",
    "X_test = scaler.transform(X_test)"
   ]
  },
  {
   "cell_type": "markdown",
   "id": "40ede200",
   "metadata": {
    "papermill": {
     "duration": 0.016784,
     "end_time": "2024-03-29T16:49:55.695068",
     "exception": false,
     "start_time": "2024-03-29T16:49:55.678284",
     "status": "completed"
    },
    "tags": []
   },
   "source": [
    "## Logistic Regression"
   ]
  },
  {
   "cell_type": "code",
   "execution_count": 15,
   "id": "297ccc5e",
   "metadata": {
    "execution": {
     "iopub.execute_input": "2024-03-29T16:49:55.730605Z",
     "iopub.status.busy": "2024-03-29T16:49:55.729888Z",
     "iopub.status.idle": "2024-03-29T16:49:56.001359Z",
     "shell.execute_reply": "2024-03-29T16:49:55.999864Z"
    },
    "papermill": {
     "duration": 0.293378,
     "end_time": "2024-03-29T16:49:56.005265",
     "exception": false,
     "start_time": "2024-03-29T16:49:55.711887",
     "status": "completed"
    },
    "tags": []
   },
   "outputs": [
    {
     "data": {
      "text/html": [
       "<style>#sk-container-id-1 {color: black;background-color: white;}#sk-container-id-1 pre{padding: 0;}#sk-container-id-1 div.sk-toggleable {background-color: white;}#sk-container-id-1 label.sk-toggleable__label {cursor: pointer;display: block;width: 100%;margin-bottom: 0;padding: 0.3em;box-sizing: border-box;text-align: center;}#sk-container-id-1 label.sk-toggleable__label-arrow:before {content: \"▸\";float: left;margin-right: 0.25em;color: #696969;}#sk-container-id-1 label.sk-toggleable__label-arrow:hover:before {color: black;}#sk-container-id-1 div.sk-estimator:hover label.sk-toggleable__label-arrow:before {color: black;}#sk-container-id-1 div.sk-toggleable__content {max-height: 0;max-width: 0;overflow: hidden;text-align: left;background-color: #f0f8ff;}#sk-container-id-1 div.sk-toggleable__content pre {margin: 0.2em;color: black;border-radius: 0.25em;background-color: #f0f8ff;}#sk-container-id-1 input.sk-toggleable__control:checked~div.sk-toggleable__content {max-height: 200px;max-width: 100%;overflow: auto;}#sk-container-id-1 input.sk-toggleable__control:checked~label.sk-toggleable__label-arrow:before {content: \"▾\";}#sk-container-id-1 div.sk-estimator input.sk-toggleable__control:checked~label.sk-toggleable__label {background-color: #d4ebff;}#sk-container-id-1 div.sk-label input.sk-toggleable__control:checked~label.sk-toggleable__label {background-color: #d4ebff;}#sk-container-id-1 input.sk-hidden--visually {border: 0;clip: rect(1px 1px 1px 1px);clip: rect(1px, 1px, 1px, 1px);height: 1px;margin: -1px;overflow: hidden;padding: 0;position: absolute;width: 1px;}#sk-container-id-1 div.sk-estimator {font-family: monospace;background-color: #f0f8ff;border: 1px dotted black;border-radius: 0.25em;box-sizing: border-box;margin-bottom: 0.5em;}#sk-container-id-1 div.sk-estimator:hover {background-color: #d4ebff;}#sk-container-id-1 div.sk-parallel-item::after {content: \"\";width: 100%;border-bottom: 1px solid gray;flex-grow: 1;}#sk-container-id-1 div.sk-label:hover label.sk-toggleable__label {background-color: #d4ebff;}#sk-container-id-1 div.sk-serial::before {content: \"\";position: absolute;border-left: 1px solid gray;box-sizing: border-box;top: 0;bottom: 0;left: 50%;z-index: 0;}#sk-container-id-1 div.sk-serial {display: flex;flex-direction: column;align-items: center;background-color: white;padding-right: 0.2em;padding-left: 0.2em;position: relative;}#sk-container-id-1 div.sk-item {position: relative;z-index: 1;}#sk-container-id-1 div.sk-parallel {display: flex;align-items: stretch;justify-content: center;background-color: white;position: relative;}#sk-container-id-1 div.sk-item::before, #sk-container-id-1 div.sk-parallel-item::before {content: \"\";position: absolute;border-left: 1px solid gray;box-sizing: border-box;top: 0;bottom: 0;left: 50%;z-index: -1;}#sk-container-id-1 div.sk-parallel-item {display: flex;flex-direction: column;z-index: 1;position: relative;background-color: white;}#sk-container-id-1 div.sk-parallel-item:first-child::after {align-self: flex-end;width: 50%;}#sk-container-id-1 div.sk-parallel-item:last-child::after {align-self: flex-start;width: 50%;}#sk-container-id-1 div.sk-parallel-item:only-child::after {width: 0;}#sk-container-id-1 div.sk-dashed-wrapped {border: 1px dashed gray;margin: 0 0.4em 0.5em 0.4em;box-sizing: border-box;padding-bottom: 0.4em;background-color: white;}#sk-container-id-1 div.sk-label label {font-family: monospace;font-weight: bold;display: inline-block;line-height: 1.2em;}#sk-container-id-1 div.sk-label-container {text-align: center;}#sk-container-id-1 div.sk-container {/* jupyter's `normalize.less` sets `[hidden] { display: none; }` but bootstrap.min.css set `[hidden] { display: none !important; }` so we also need the `!important` here to be able to override the default hidden behavior on the sphinx rendered scikit-learn.org. See: https://github.com/scikit-learn/scikit-learn/issues/21755 */display: inline-block !important;position: relative;}#sk-container-id-1 div.sk-text-repr-fallback {display: none;}</style><div id=\"sk-container-id-1\" class=\"sk-top-container\"><div class=\"sk-text-repr-fallback\"><pre>LogisticRegression(random_state=0)</pre><b>In a Jupyter environment, please rerun this cell to show the HTML representation or trust the notebook. <br />On GitHub, the HTML representation is unable to render, please try loading this page with nbviewer.org.</b></div><div class=\"sk-container\" hidden><div class=\"sk-item\"><div class=\"sk-estimator sk-toggleable\"><input class=\"sk-toggleable__control sk-hidden--visually\" id=\"sk-estimator-id-1\" type=\"checkbox\" checked><label for=\"sk-estimator-id-1\" class=\"sk-toggleable__label sk-toggleable__label-arrow\">LogisticRegression</label><div class=\"sk-toggleable__content\"><pre>LogisticRegression(random_state=0)</pre></div></div></div></div></div>"
      ],
      "text/plain": [
       "LogisticRegression(random_state=0)"
      ]
     },
     "execution_count": 15,
     "metadata": {},
     "output_type": "execute_result"
    }
   ],
   "source": [
    "#Fitting Logistic Regression to the Training set\n",
    "from sklearn.linear_model import LogisticRegression\n",
    "LR = LogisticRegression(random_state = 0)\n",
    "LR.fit(X_train, y_train)"
   ]
  },
  {
   "cell_type": "code",
   "execution_count": 16,
   "id": "4173241c",
   "metadata": {
    "execution": {
     "iopub.execute_input": "2024-03-29T16:49:56.083566Z",
     "iopub.status.busy": "2024-03-29T16:49:56.082858Z",
     "iopub.status.idle": "2024-03-29T16:49:56.096575Z",
     "shell.execute_reply": "2024-03-29T16:49:56.094995Z"
    },
    "papermill": {
     "duration": 0.05632,
     "end_time": "2024-03-29T16:49:56.100366",
     "exception": false,
     "start_time": "2024-03-29T16:49:56.044046",
     "status": "completed"
    },
    "tags": []
   },
   "outputs": [
    {
     "name": "stdout",
     "output_type": "stream",
     "text": [
      "[0 0 0 ... 0 0 0]\n"
     ]
    }
   ],
   "source": [
    "# Predicting the Test set results\n",
    "y_pred = LR.predict(X_test)\n",
    "print(y_pred)"
   ]
  },
  {
   "cell_type": "code",
   "execution_count": 17,
   "id": "a1a90449",
   "metadata": {
    "execution": {
     "iopub.execute_input": "2024-03-29T16:49:56.178303Z",
     "iopub.status.busy": "2024-03-29T16:49:56.177633Z",
     "iopub.status.idle": "2024-03-29T16:49:56.193103Z",
     "shell.execute_reply": "2024-03-29T16:49:56.191592Z"
    },
    "papermill": {
     "duration": 0.058364,
     "end_time": "2024-03-29T16:49:56.196928",
     "exception": false,
     "start_time": "2024-03-29T16:49:56.138564",
     "status": "completed"
    },
    "tags": []
   },
   "outputs": [
    {
     "name": "stdout",
     "output_type": "stream",
     "text": [
      "[[10991     0]\n",
      " [  161     0]]\n"
     ]
    }
   ],
   "source": [
    "# Making the Confusion Matrix\n",
    "from sklearn.metrics import confusion_matrix\n",
    "cm = confusion_matrix(y_test, y_pred)\n",
    "print(cm)"
   ]
  },
  {
   "cell_type": "code",
   "execution_count": 18,
   "id": "6ec38415",
   "metadata": {
    "execution": {
     "iopub.execute_input": "2024-03-29T16:49:56.240979Z",
     "iopub.status.busy": "2024-03-29T16:49:56.240565Z",
     "iopub.status.idle": "2024-03-29T16:49:56.587455Z",
     "shell.execute_reply": "2024-03-29T16:49:56.586553Z"
    },
    "papermill": {
     "duration": 0.368173,
     "end_time": "2024-03-29T16:49:56.589916",
     "exception": false,
     "start_time": "2024-03-29T16:49:56.221743",
     "status": "completed"
    },
    "tags": []
   },
   "outputs": [],
   "source": [
    "from pylab import rcParams\n",
    "import seaborn as sns; sns.set()\n",
    "\n",
    "from sklearn.metrics import accuracy_score\n",
    "from sklearn.metrics import precision_score, recall_score\n",
    "from sklearn.metrics import f1_score, roc_auc_score, roc_curve"
   ]
  },
  {
   "cell_type": "code",
   "execution_count": 19,
   "id": "8c21ea6a",
   "metadata": {
    "execution": {
     "iopub.execute_input": "2024-03-29T16:49:56.627807Z",
     "iopub.status.busy": "2024-03-29T16:49:56.626736Z",
     "iopub.status.idle": "2024-03-29T16:49:56.632757Z",
     "shell.execute_reply": "2024-03-29T16:49:56.631917Z"
    },
    "papermill": {
     "duration": 0.027098,
     "end_time": "2024-03-29T16:49:56.634866",
     "exception": false,
     "start_time": "2024-03-29T16:49:56.607768",
     "status": "completed"
    },
    "tags": []
   },
   "outputs": [],
   "source": [
    "#to generate model report \n",
    "def generate_model_report(y_actual, y_predicted):\n",
    "    print(\"Accuracy = \" ,accuracy_score(y_actual,y_predicted))\n",
    "    print(\"Precision = \" ,precision_score(y_actual,y_predicted))\n",
    "    print(\"Recall = \" ,recall_score(y_actual,y_predicted))\n",
    "    print(\"F1 Score = \" ,f1_score(y_actual,y_predicted))\n",
    "    pass"
   ]
  },
  {
   "cell_type": "code",
   "execution_count": 20,
   "id": "7cde06f9",
   "metadata": {
    "execution": {
     "iopub.execute_input": "2024-03-29T16:49:56.671522Z",
     "iopub.status.busy": "2024-03-29T16:49:56.671090Z",
     "iopub.status.idle": "2024-03-29T16:49:56.697711Z",
     "shell.execute_reply": "2024-03-29T16:49:56.696637Z"
    },
    "papermill": {
     "duration": 0.04956,
     "end_time": "2024-03-29T16:49:56.701976",
     "exception": false,
     "start_time": "2024-03-29T16:49:56.652416",
     "status": "completed"
    },
    "tags": []
   },
   "outputs": [
    {
     "name": "stdout",
     "output_type": "stream",
     "text": [
      "Accuracy =  0.9855631276901005\n",
      "Precision =  0.0\n",
      "Recall =  0.0\n",
      "F1 Score =  0.0\n"
     ]
    },
    {
     "name": "stderr",
     "output_type": "stream",
     "text": [
      "/opt/conda/lib/python3.10/site-packages/sklearn/metrics/_classification.py:1344: UndefinedMetricWarning: Precision is ill-defined and being set to 0.0 due to no predicted samples. Use `zero_division` parameter to control this behavior.\n",
      "  _warn_prf(average, modifier, msg_start, len(result))\n"
     ]
    }
   ],
   "source": [
    "# to generate model measurement\n",
    "generate_model_report(y_test, y_pred)"
   ]
  },
  {
   "cell_type": "markdown",
   "id": "50138436",
   "metadata": {
    "papermill": {
     "duration": 0.018205,
     "end_time": "2024-03-29T16:49:56.738015",
     "exception": false,
     "start_time": "2024-03-29T16:49:56.719810",
     "status": "completed"
    },
    "tags": []
   },
   "source": [
    "## Decision Tree"
   ]
  },
  {
   "cell_type": "code",
   "execution_count": 21,
   "id": "061fef86",
   "metadata": {
    "execution": {
     "iopub.execute_input": "2024-03-29T16:49:56.776261Z",
     "iopub.status.busy": "2024-03-29T16:49:56.775750Z",
     "iopub.status.idle": "2024-03-29T16:49:57.154349Z",
     "shell.execute_reply": "2024-03-29T16:49:57.153159Z"
    },
    "papermill": {
     "duration": 0.400552,
     "end_time": "2024-03-29T16:49:57.156869",
     "exception": false,
     "start_time": "2024-03-29T16:49:56.756317",
     "status": "completed"
    },
    "tags": []
   },
   "outputs": [
    {
     "data": {
      "text/html": [
       "<style>#sk-container-id-2 {color: black;background-color: white;}#sk-container-id-2 pre{padding: 0;}#sk-container-id-2 div.sk-toggleable {background-color: white;}#sk-container-id-2 label.sk-toggleable__label {cursor: pointer;display: block;width: 100%;margin-bottom: 0;padding: 0.3em;box-sizing: border-box;text-align: center;}#sk-container-id-2 label.sk-toggleable__label-arrow:before {content: \"▸\";float: left;margin-right: 0.25em;color: #696969;}#sk-container-id-2 label.sk-toggleable__label-arrow:hover:before {color: black;}#sk-container-id-2 div.sk-estimator:hover label.sk-toggleable__label-arrow:before {color: black;}#sk-container-id-2 div.sk-toggleable__content {max-height: 0;max-width: 0;overflow: hidden;text-align: left;background-color: #f0f8ff;}#sk-container-id-2 div.sk-toggleable__content pre {margin: 0.2em;color: black;border-radius: 0.25em;background-color: #f0f8ff;}#sk-container-id-2 input.sk-toggleable__control:checked~div.sk-toggleable__content {max-height: 200px;max-width: 100%;overflow: auto;}#sk-container-id-2 input.sk-toggleable__control:checked~label.sk-toggleable__label-arrow:before {content: \"▾\";}#sk-container-id-2 div.sk-estimator input.sk-toggleable__control:checked~label.sk-toggleable__label {background-color: #d4ebff;}#sk-container-id-2 div.sk-label input.sk-toggleable__control:checked~label.sk-toggleable__label {background-color: #d4ebff;}#sk-container-id-2 input.sk-hidden--visually {border: 0;clip: rect(1px 1px 1px 1px);clip: rect(1px, 1px, 1px, 1px);height: 1px;margin: -1px;overflow: hidden;padding: 0;position: absolute;width: 1px;}#sk-container-id-2 div.sk-estimator {font-family: monospace;background-color: #f0f8ff;border: 1px dotted black;border-radius: 0.25em;box-sizing: border-box;margin-bottom: 0.5em;}#sk-container-id-2 div.sk-estimator:hover {background-color: #d4ebff;}#sk-container-id-2 div.sk-parallel-item::after {content: \"\";width: 100%;border-bottom: 1px solid gray;flex-grow: 1;}#sk-container-id-2 div.sk-label:hover label.sk-toggleable__label {background-color: #d4ebff;}#sk-container-id-2 div.sk-serial::before {content: \"\";position: absolute;border-left: 1px solid gray;box-sizing: border-box;top: 0;bottom: 0;left: 50%;z-index: 0;}#sk-container-id-2 div.sk-serial {display: flex;flex-direction: column;align-items: center;background-color: white;padding-right: 0.2em;padding-left: 0.2em;position: relative;}#sk-container-id-2 div.sk-item {position: relative;z-index: 1;}#sk-container-id-2 div.sk-parallel {display: flex;align-items: stretch;justify-content: center;background-color: white;position: relative;}#sk-container-id-2 div.sk-item::before, #sk-container-id-2 div.sk-parallel-item::before {content: \"\";position: absolute;border-left: 1px solid gray;box-sizing: border-box;top: 0;bottom: 0;left: 50%;z-index: -1;}#sk-container-id-2 div.sk-parallel-item {display: flex;flex-direction: column;z-index: 1;position: relative;background-color: white;}#sk-container-id-2 div.sk-parallel-item:first-child::after {align-self: flex-end;width: 50%;}#sk-container-id-2 div.sk-parallel-item:last-child::after {align-self: flex-start;width: 50%;}#sk-container-id-2 div.sk-parallel-item:only-child::after {width: 0;}#sk-container-id-2 div.sk-dashed-wrapped {border: 1px dashed gray;margin: 0 0.4em 0.5em 0.4em;box-sizing: border-box;padding-bottom: 0.4em;background-color: white;}#sk-container-id-2 div.sk-label label {font-family: monospace;font-weight: bold;display: inline-block;line-height: 1.2em;}#sk-container-id-2 div.sk-label-container {text-align: center;}#sk-container-id-2 div.sk-container {/* jupyter's `normalize.less` sets `[hidden] { display: none; }` but bootstrap.min.css set `[hidden] { display: none !important; }` so we also need the `!important` here to be able to override the default hidden behavior on the sphinx rendered scikit-learn.org. See: https://github.com/scikit-learn/scikit-learn/issues/21755 */display: inline-block !important;position: relative;}#sk-container-id-2 div.sk-text-repr-fallback {display: none;}</style><div id=\"sk-container-id-2\" class=\"sk-top-container\"><div class=\"sk-text-repr-fallback\"><pre>DecisionTreeClassifier(criterion=&#x27;entropy&#x27;, random_state=0)</pre><b>In a Jupyter environment, please rerun this cell to show the HTML representation or trust the notebook. <br />On GitHub, the HTML representation is unable to render, please try loading this page with nbviewer.org.</b></div><div class=\"sk-container\" hidden><div class=\"sk-item\"><div class=\"sk-estimator sk-toggleable\"><input class=\"sk-toggleable__control sk-hidden--visually\" id=\"sk-estimator-id-2\" type=\"checkbox\" checked><label for=\"sk-estimator-id-2\" class=\"sk-toggleable__label sk-toggleable__label-arrow\">DecisionTreeClassifier</label><div class=\"sk-toggleable__content\"><pre>DecisionTreeClassifier(criterion=&#x27;entropy&#x27;, random_state=0)</pre></div></div></div></div></div>"
      ],
      "text/plain": [
       "DecisionTreeClassifier(criterion='entropy', random_state=0)"
      ]
     },
     "execution_count": 21,
     "metadata": {},
     "output_type": "execute_result"
    }
   ],
   "source": [
    "# Fitting Decision Tree Classification to the Training set\n",
    "from sklearn.tree import DecisionTreeClassifier\n",
    "DT = DecisionTreeClassifier(criterion = 'entropy', random_state = 0)\n",
    "DT.fit(X_train, y_train)"
   ]
  },
  {
   "cell_type": "code",
   "execution_count": 22,
   "id": "b12e0b40",
   "metadata": {
    "execution": {
     "iopub.execute_input": "2024-03-29T16:49:57.195899Z",
     "iopub.status.busy": "2024-03-29T16:49:57.194804Z",
     "iopub.status.idle": "2024-03-29T16:49:57.203281Z",
     "shell.execute_reply": "2024-03-29T16:49:57.201827Z"
    },
    "papermill": {
     "duration": 0.030298,
     "end_time": "2024-03-29T16:49:57.205679",
     "exception": false,
     "start_time": "2024-03-29T16:49:57.175381",
     "status": "completed"
    },
    "tags": []
   },
   "outputs": [
    {
     "name": "stdout",
     "output_type": "stream",
     "text": [
      "[0 0 0 ... 0 0 0]\n"
     ]
    }
   ],
   "source": [
    "# Predicting the Test set results\n",
    "y_pred1 = DT.predict(X_test)\n",
    "print(y_pred1)"
   ]
  },
  {
   "cell_type": "code",
   "execution_count": 23,
   "id": "d7aff8a5",
   "metadata": {
    "execution": {
     "iopub.execute_input": "2024-03-29T16:49:57.244488Z",
     "iopub.status.busy": "2024-03-29T16:49:57.243568Z",
     "iopub.status.idle": "2024-03-29T16:49:57.252632Z",
     "shell.execute_reply": "2024-03-29T16:49:57.251346Z"
    },
    "papermill": {
     "duration": 0.031221,
     "end_time": "2024-03-29T16:49:57.255122",
     "exception": false,
     "start_time": "2024-03-29T16:49:57.223901",
     "status": "completed"
    },
    "tags": []
   },
   "outputs": [
    {
     "name": "stdout",
     "output_type": "stream",
     "text": [
      "[[10770   221]\n",
      " [  152     9]]\n"
     ]
    }
   ],
   "source": [
    "# Making the Confusion Matrix\n",
    "from sklearn.metrics import confusion_matrix\n",
    "cm = confusion_matrix(y_test, y_pred1)\n",
    "print(cm)"
   ]
  },
  {
   "cell_type": "code",
   "execution_count": 24,
   "id": "2e98519d",
   "metadata": {
    "execution": {
     "iopub.execute_input": "2024-03-29T16:49:57.292924Z",
     "iopub.status.busy": "2024-03-29T16:49:57.292532Z",
     "iopub.status.idle": "2024-03-29T16:49:57.315977Z",
     "shell.execute_reply": "2024-03-29T16:49:57.314660Z"
    },
    "papermill": {
     "duration": 0.045116,
     "end_time": "2024-03-29T16:49:57.318307",
     "exception": false,
     "start_time": "2024-03-29T16:49:57.273191",
     "status": "completed"
    },
    "tags": []
   },
   "outputs": [
    {
     "name": "stdout",
     "output_type": "stream",
     "text": [
      "Accuracy =  0.9665530846484935\n",
      "Precision =  0.0391304347826087\n",
      "Recall =  0.055900621118012424\n",
      "F1 Score =  0.04603580562659847\n"
     ]
    }
   ],
   "source": [
    "# to generate model measurement\n",
    "generate_model_report(y_test, y_pred1)"
   ]
  },
  {
   "cell_type": "markdown",
   "id": "e227c1cf",
   "metadata": {
    "papermill": {
     "duration": 0.017689,
     "end_time": "2024-03-29T16:49:57.354716",
     "exception": false,
     "start_time": "2024-03-29T16:49:57.337027",
     "status": "completed"
    },
    "tags": []
   },
   "source": [
    "## Naive Bayes"
   ]
  },
  {
   "cell_type": "code",
   "execution_count": 25,
   "id": "15e6fc7f",
   "metadata": {
    "execution": {
     "iopub.execute_input": "2024-03-29T16:49:57.393207Z",
     "iopub.status.busy": "2024-03-29T16:49:57.392533Z",
     "iopub.status.idle": "2024-03-29T16:49:57.421881Z",
     "shell.execute_reply": "2024-03-29T16:49:57.421068Z"
    },
    "papermill": {
     "duration": 0.051191,
     "end_time": "2024-03-29T16:49:57.424081",
     "exception": false,
     "start_time": "2024-03-29T16:49:57.372890",
     "status": "completed"
    },
    "tags": []
   },
   "outputs": [
    {
     "data": {
      "text/html": [
       "<style>#sk-container-id-3 {color: black;background-color: white;}#sk-container-id-3 pre{padding: 0;}#sk-container-id-3 div.sk-toggleable {background-color: white;}#sk-container-id-3 label.sk-toggleable__label {cursor: pointer;display: block;width: 100%;margin-bottom: 0;padding: 0.3em;box-sizing: border-box;text-align: center;}#sk-container-id-3 label.sk-toggleable__label-arrow:before {content: \"▸\";float: left;margin-right: 0.25em;color: #696969;}#sk-container-id-3 label.sk-toggleable__label-arrow:hover:before {color: black;}#sk-container-id-3 div.sk-estimator:hover label.sk-toggleable__label-arrow:before {color: black;}#sk-container-id-3 div.sk-toggleable__content {max-height: 0;max-width: 0;overflow: hidden;text-align: left;background-color: #f0f8ff;}#sk-container-id-3 div.sk-toggleable__content pre {margin: 0.2em;color: black;border-radius: 0.25em;background-color: #f0f8ff;}#sk-container-id-3 input.sk-toggleable__control:checked~div.sk-toggleable__content {max-height: 200px;max-width: 100%;overflow: auto;}#sk-container-id-3 input.sk-toggleable__control:checked~label.sk-toggleable__label-arrow:before {content: \"▾\";}#sk-container-id-3 div.sk-estimator input.sk-toggleable__control:checked~label.sk-toggleable__label {background-color: #d4ebff;}#sk-container-id-3 div.sk-label input.sk-toggleable__control:checked~label.sk-toggleable__label {background-color: #d4ebff;}#sk-container-id-3 input.sk-hidden--visually {border: 0;clip: rect(1px 1px 1px 1px);clip: rect(1px, 1px, 1px, 1px);height: 1px;margin: -1px;overflow: hidden;padding: 0;position: absolute;width: 1px;}#sk-container-id-3 div.sk-estimator {font-family: monospace;background-color: #f0f8ff;border: 1px dotted black;border-radius: 0.25em;box-sizing: border-box;margin-bottom: 0.5em;}#sk-container-id-3 div.sk-estimator:hover {background-color: #d4ebff;}#sk-container-id-3 div.sk-parallel-item::after {content: \"\";width: 100%;border-bottom: 1px solid gray;flex-grow: 1;}#sk-container-id-3 div.sk-label:hover label.sk-toggleable__label {background-color: #d4ebff;}#sk-container-id-3 div.sk-serial::before {content: \"\";position: absolute;border-left: 1px solid gray;box-sizing: border-box;top: 0;bottom: 0;left: 50%;z-index: 0;}#sk-container-id-3 div.sk-serial {display: flex;flex-direction: column;align-items: center;background-color: white;padding-right: 0.2em;padding-left: 0.2em;position: relative;}#sk-container-id-3 div.sk-item {position: relative;z-index: 1;}#sk-container-id-3 div.sk-parallel {display: flex;align-items: stretch;justify-content: center;background-color: white;position: relative;}#sk-container-id-3 div.sk-item::before, #sk-container-id-3 div.sk-parallel-item::before {content: \"\";position: absolute;border-left: 1px solid gray;box-sizing: border-box;top: 0;bottom: 0;left: 50%;z-index: -1;}#sk-container-id-3 div.sk-parallel-item {display: flex;flex-direction: column;z-index: 1;position: relative;background-color: white;}#sk-container-id-3 div.sk-parallel-item:first-child::after {align-self: flex-end;width: 50%;}#sk-container-id-3 div.sk-parallel-item:last-child::after {align-self: flex-start;width: 50%;}#sk-container-id-3 div.sk-parallel-item:only-child::after {width: 0;}#sk-container-id-3 div.sk-dashed-wrapped {border: 1px dashed gray;margin: 0 0.4em 0.5em 0.4em;box-sizing: border-box;padding-bottom: 0.4em;background-color: white;}#sk-container-id-3 div.sk-label label {font-family: monospace;font-weight: bold;display: inline-block;line-height: 1.2em;}#sk-container-id-3 div.sk-label-container {text-align: center;}#sk-container-id-3 div.sk-container {/* jupyter's `normalize.less` sets `[hidden] { display: none; }` but bootstrap.min.css set `[hidden] { display: none !important; }` so we also need the `!important` here to be able to override the default hidden behavior on the sphinx rendered scikit-learn.org. See: https://github.com/scikit-learn/scikit-learn/issues/21755 */display: inline-block !important;position: relative;}#sk-container-id-3 div.sk-text-repr-fallback {display: none;}</style><div id=\"sk-container-id-3\" class=\"sk-top-container\"><div class=\"sk-text-repr-fallback\"><pre>GaussianNB()</pre><b>In a Jupyter environment, please rerun this cell to show the HTML representation or trust the notebook. <br />On GitHub, the HTML representation is unable to render, please try loading this page with nbviewer.org.</b></div><div class=\"sk-container\" hidden><div class=\"sk-item\"><div class=\"sk-estimator sk-toggleable\"><input class=\"sk-toggleable__control sk-hidden--visually\" id=\"sk-estimator-id-3\" type=\"checkbox\" checked><label for=\"sk-estimator-id-3\" class=\"sk-toggleable__label sk-toggleable__label-arrow\">GaussianNB</label><div class=\"sk-toggleable__content\"><pre>GaussianNB()</pre></div></div></div></div></div>"
      ],
      "text/plain": [
       "GaussianNB()"
      ]
     },
     "execution_count": 25,
     "metadata": {},
     "output_type": "execute_result"
    }
   ],
   "source": [
    "# Import the necessary libraries\n",
    "from sklearn.naive_bayes import GaussianNB\n",
    "from sklearn.metrics import accuracy_score\n",
    "\n",
    "#fitting naive bayes Classification to the Training set\n",
    "nb = GaussianNB()\n",
    "# Train the classifier\n",
    "nb.fit(X_train, y_train)"
   ]
  },
  {
   "cell_type": "code",
   "execution_count": 26,
   "id": "c335728a",
   "metadata": {
    "execution": {
     "iopub.execute_input": "2024-03-29T16:49:57.462890Z",
     "iopub.status.busy": "2024-03-29T16:49:57.462218Z",
     "iopub.status.idle": "2024-03-29T16:49:57.470380Z",
     "shell.execute_reply": "2024-03-29T16:49:57.469255Z"
    },
    "papermill": {
     "duration": 0.030231,
     "end_time": "2024-03-29T16:49:57.472586",
     "exception": false,
     "start_time": "2024-03-29T16:49:57.442355",
     "status": "completed"
    },
    "tags": []
   },
   "outputs": [
    {
     "name": "stdout",
     "output_type": "stream",
     "text": [
      "[0 0 0 ... 0 0 1]\n"
     ]
    }
   ],
   "source": [
    "# Predicting the Test set results\n",
    "y_pred2 = nb.predict(X_test)\n",
    "print(y_pred2)"
   ]
  },
  {
   "cell_type": "code",
   "execution_count": 27,
   "id": "fc9bd610",
   "metadata": {
    "execution": {
     "iopub.execute_input": "2024-03-29T16:49:57.511955Z",
     "iopub.status.busy": "2024-03-29T16:49:57.511497Z",
     "iopub.status.idle": "2024-03-29T16:49:57.521606Z",
     "shell.execute_reply": "2024-03-29T16:49:57.520520Z"
    },
    "papermill": {
     "duration": 0.032715,
     "end_time": "2024-03-29T16:49:57.523801",
     "exception": false,
     "start_time": "2024-03-29T16:49:57.491086",
     "status": "completed"
    },
    "tags": []
   },
   "outputs": [
    {
     "name": "stdout",
     "output_type": "stream",
     "text": [
      "[[9227 1764]\n",
      " [  75   86]]\n"
     ]
    }
   ],
   "source": [
    "# Making the Confusion Matrix\n",
    "from sklearn.metrics import confusion_matrix\n",
    "cm = confusion_matrix(y_test, y_pred2)\n",
    "print(cm)"
   ]
  },
  {
   "cell_type": "code",
   "execution_count": 28,
   "id": "2fa75128",
   "metadata": {
    "execution": {
     "iopub.execute_input": "2024-03-29T16:49:57.563218Z",
     "iopub.status.busy": "2024-03-29T16:49:57.562598Z",
     "iopub.status.idle": "2024-03-29T16:49:57.587170Z",
     "shell.execute_reply": "2024-03-29T16:49:57.586239Z"
    },
    "papermill": {
     "duration": 0.046745,
     "end_time": "2024-03-29T16:49:57.589358",
     "exception": false,
     "start_time": "2024-03-29T16:49:57.542613",
     "status": "completed"
    },
    "tags": []
   },
   "outputs": [
    {
     "name": "stdout",
     "output_type": "stream",
     "text": [
      "Accuracy =  0.835096843615495\n",
      "Precision =  0.046486486486486484\n",
      "Recall =  0.5341614906832298\n",
      "F1 Score =  0.08552958727001492\n"
     ]
    }
   ],
   "source": [
    "# to generate model measurement\n",
    "generate_model_report(y_test, y_pred2)"
   ]
  },
  {
   "cell_type": "markdown",
   "id": "0ae21ef3",
   "metadata": {
    "papermill": {
     "duration": 0.018185,
     "end_time": "2024-03-29T16:49:57.626312",
     "exception": false,
     "start_time": "2024-03-29T16:49:57.608127",
     "status": "completed"
    },
    "tags": []
   },
   "source": [
    "## Use train Decision Tree to predict test data"
   ]
  },
  {
   "cell_type": "code",
   "execution_count": 29,
   "id": "f7edfbf3",
   "metadata": {
    "execution": {
     "iopub.execute_input": "2024-03-29T16:49:57.665682Z",
     "iopub.status.busy": "2024-03-29T16:49:57.664995Z",
     "iopub.status.idle": "2024-03-29T16:49:57.694705Z",
     "shell.execute_reply": "2024-03-29T16:49:57.693584Z"
    },
    "papermill": {
     "duration": 0.052389,
     "end_time": "2024-03-29T16:49:57.697437",
     "exception": false,
     "start_time": "2024-03-29T16:49:57.645048",
     "status": "completed"
    },
    "tags": []
   },
   "outputs": [
    {
     "name": "stdout",
     "output_type": "stream",
     "text": [
      "       Gender            City code  Area code        Employer code  Emp Cat1  \\\n",
      "0           1  5969016085647965848        3.0 -1583851805195383176       1.0   \n",
      "1           1  3466152762937442713        1.0  3291646035407655386       2.0   \n",
      "2           1 -5413728021433296369        1.0 -5282084624191443479       1.0   \n",
      "3           0 -5413728021433296369        1.0   768741222651021646       2.0   \n",
      "4           0   630300624900511972        1.0 -2992289926877962833       2.0   \n",
      "...       ...                  ...        ...                  ...       ...   \n",
      "13935       0   630300624900511972        1.0 -5122065470464514482       1.0   \n",
      "13936       0        8322794614403        1.0  8631178485930553909       3.0   \n",
      "13937       1  4195062457429987311        1.0  7949572066056611526       2.0   \n",
      "13938       1  4195062457429987311        1.0   194240131177123668       2.0   \n",
      "13939       0  3782342448181408906        1.0  1447463489554380912       3.0   \n",
      "\n",
      "       Emp Cat2  Monthly income            Bank code  Bank account type  \\\n",
      "0           4.0          1155.0 -4438975989796485538                2.0   \n",
      "1           4.0          3150.0 -5682066992016760665                1.0   \n",
      "2           4.0          2310.0  4934588897315644940                1.0   \n",
      "3           4.0          1470.0 -4438975989796485538                2.0   \n",
      "4           4.0          2415.0 -4438975989796485538                2.0   \n",
      "...         ...             ...                  ...                ...   \n",
      "13935       4.0          5932.5 -2894846774513267556                1.0   \n",
      "13936       4.0          2625.0        8322794614403                1.0   \n",
      "13937       4.0          1942.5  4934588897315644940                1.0   \n",
      "13938       4.0          1732.5  4934588897315644940                1.0   \n",
      "13939       1.0         11445.0 -2629564825712250164                1.0   \n",
      "\n",
      "       Marketing source  Marketing Cat1  Marketing Cat2  \\\n",
      "0                     4               2               2   \n",
      "1                     1               2              10   \n",
      "2                     4               3               2   \n",
      "3                     4               3               0   \n",
      "4                     1               7               4   \n",
      "...                 ...             ...             ...   \n",
      "13935                 1               7              10   \n",
      "13936                 1               7               0   \n",
      "13937                 1               7               2   \n",
      "13938                 1               7               2   \n",
      "13939                 2               2               7   \n",
      "\n",
      "       Current loan installment  Requested Loan Amount  Loan Repayment (Year)  \\\n",
      "0                       176.925                10500.0                    4.0   \n",
      "1                      1155.000                34650.0                    4.0   \n",
      "2                         0.000                33600.0                    5.0   \n",
      "3                         0.000                31500.0                    4.0   \n",
      "4                       472.500                31500.0                    4.0   \n",
      "...                         ...                    ...                    ...   \n",
      "13935                     0.000                31500.0                    4.0   \n",
      "13936                     0.000                31500.0                    4.0   \n",
      "13937                   157.500                31500.0                    5.0   \n",
      "13938                     0.000                27300.0                    4.0   \n",
      "13939                  3937.500                31500.0                    4.0   \n",
      "\n",
      "       Interest Rate  Requested Loan Installment  \n",
      "0            34.7900                     176.925  \n",
      "1            17.5175                    1155.000  \n",
      "2            19.6000                       0.000  \n",
      "3            17.5175                       0.000  \n",
      "4            17.5175                     472.500  \n",
      "...              ...                         ...  \n",
      "13935        17.5175                       0.000  \n",
      "13936        17.5175                       0.000  \n",
      "13937        17.8850                     157.500  \n",
      "13938        30.8700                       0.000  \n",
      "13939        17.5175                    3937.500  \n",
      "\n",
      "[13940 rows x 17 columns]\n"
     ]
    }
   ],
   "source": [
    "# Fill missing values with the mean of each column\n",
    "data_test = data_test.fillna(data_test.median())\n",
    "\n",
    "print(data_test)"
   ]
  },
  {
   "cell_type": "code",
   "execution_count": 30,
   "id": "935e4b65",
   "metadata": {
    "execution": {
     "iopub.execute_input": "2024-03-29T16:49:57.794965Z",
     "iopub.status.busy": "2024-03-29T16:49:57.794336Z",
     "iopub.status.idle": "2024-03-29T16:49:57.804193Z",
     "shell.execute_reply": "2024-03-29T16:49:57.803092Z"
    },
    "papermill": {
     "duration": 0.033491,
     "end_time": "2024-03-29T16:49:57.806456",
     "exception": false,
     "start_time": "2024-03-29T16:49:57.772965",
     "status": "completed"
    },
    "tags": []
   },
   "outputs": [
    {
     "data": {
      "text/plain": [
       "Gender                        0\n",
       "City code                     0\n",
       "Area code                     0\n",
       "Employer code                 0\n",
       "Emp Cat1                      0\n",
       "Emp Cat2                      0\n",
       "Monthly income                0\n",
       "Bank code                     0\n",
       "Bank account type             0\n",
       "Marketing source              0\n",
       "Marketing Cat1                0\n",
       "Marketing Cat2                0\n",
       "Current loan installment      0\n",
       "Requested Loan Amount         0\n",
       "Loan Repayment (Year)         0\n",
       "Interest Rate                 0\n",
       "Requested Loan Installment    0\n",
       "dtype: int64"
      ]
     },
     "execution_count": 30,
     "metadata": {},
     "output_type": "execute_result"
    }
   ],
   "source": [
    "data_test.isna().sum()"
   ]
  },
  {
   "cell_type": "code",
   "execution_count": 31,
   "id": "7c122e92",
   "metadata": {
    "execution": {
     "iopub.execute_input": "2024-03-29T16:49:57.846873Z",
     "iopub.status.busy": "2024-03-29T16:49:57.846470Z",
     "iopub.status.idle": "2024-03-29T16:49:57.859754Z",
     "shell.execute_reply": "2024-03-29T16:49:57.858775Z"
    },
    "papermill": {
     "duration": 0.036553,
     "end_time": "2024-03-29T16:49:57.862355",
     "exception": false,
     "start_time": "2024-03-29T16:49:57.825802",
     "status": "completed"
    },
    "tags": []
   },
   "outputs": [],
   "source": [
    "## feature scaling\n",
    "from sklearn.preprocessing import StandardScaler\n",
    "scaler = StandardScaler()\n",
    "data_test = scaler.fit_transform(data_test)"
   ]
  },
  {
   "cell_type": "code",
   "execution_count": 32,
   "id": "80b9d993",
   "metadata": {
    "execution": {
     "iopub.execute_input": "2024-03-29T16:49:57.903101Z",
     "iopub.status.busy": "2024-03-29T16:49:57.902707Z",
     "iopub.status.idle": "2024-03-29T16:49:57.909760Z",
     "shell.execute_reply": "2024-03-29T16:49:57.908357Z"
    },
    "papermill": {
     "duration": 0.030308,
     "end_time": "2024-03-29T16:49:57.912131",
     "exception": false,
     "start_time": "2024-03-29T16:49:57.881823",
     "status": "completed"
    },
    "tags": []
   },
   "outputs": [
    {
     "data": {
      "text/plain": [
       "(13940, 17)"
      ]
     },
     "execution_count": 32,
     "metadata": {},
     "output_type": "execute_result"
    }
   ],
   "source": [
    "data_test.shape"
   ]
  },
  {
   "cell_type": "code",
   "execution_count": 33,
   "id": "0180150f",
   "metadata": {
    "execution": {
     "iopub.execute_input": "2024-03-29T16:49:57.953164Z",
     "iopub.status.busy": "2024-03-29T16:49:57.952127Z",
     "iopub.status.idle": "2024-03-29T16:49:57.958244Z",
     "shell.execute_reply": "2024-03-29T16:49:57.957370Z"
    },
    "papermill": {
     "duration": 0.028682,
     "end_time": "2024-03-29T16:49:57.960394",
     "exception": false,
     "start_time": "2024-03-29T16:49:57.931712",
     "status": "completed"
    },
    "tags": []
   },
   "outputs": [],
   "source": [
    "x_pred = DT.predict(data_test)"
   ]
  },
  {
   "cell_type": "code",
   "execution_count": 34,
   "id": "0fbceaa1",
   "metadata": {
    "execution": {
     "iopub.execute_input": "2024-03-29T16:49:58.001472Z",
     "iopub.status.busy": "2024-03-29T16:49:58.000392Z",
     "iopub.status.idle": "2024-03-29T16:49:58.006222Z",
     "shell.execute_reply": "2024-03-29T16:49:58.005250Z"
    },
    "papermill": {
     "duration": 0.029254,
     "end_time": "2024-03-29T16:49:58.008879",
     "exception": false,
     "start_time": "2024-03-29T16:49:57.979625",
     "status": "completed"
    },
    "tags": []
   },
   "outputs": [],
   "source": [
    "# Creating pandas dataframe from numpy array\n",
    "submission = pd.DataFrame({'id': np.arange(1,13941), 'class': x_pred})"
   ]
  },
  {
   "cell_type": "code",
   "execution_count": 35,
   "id": "4251f639",
   "metadata": {
    "execution": {
     "iopub.execute_input": "2024-03-29T16:49:58.051344Z",
     "iopub.status.busy": "2024-03-29T16:49:58.050968Z",
     "iopub.status.idle": "2024-03-29T16:49:58.076187Z",
     "shell.execute_reply": "2024-03-29T16:49:58.074997Z"
    },
    "papermill": {
     "duration": 0.050885,
     "end_time": "2024-03-29T16:49:58.079151",
     "exception": false,
     "start_time": "2024-03-29T16:49:58.028266",
     "status": "completed"
    },
    "tags": []
   },
   "outputs": [],
   "source": [
    "submission.to_csv('my_submission.csv', index=False) "
   ]
  }
 ],
 "metadata": {
  "kaggle": {
   "accelerator": "none",
   "dataSources": [
    {
     "databundleVersionId": 7799805,
     "sourceId": 71331,
     "sourceType": "competition"
    }
   ],
   "dockerImageVersionId": 30673,
   "isGpuEnabled": false,
   "isInternetEnabled": true,
   "language": "python",
   "sourceType": "notebook"
  },
  "kernelspec": {
   "display_name": "Python 3",
   "language": "python",
   "name": "python3"
  },
  "language_info": {
   "codemirror_mode": {
    "name": "ipython",
    "version": 3
   },
   "file_extension": ".py",
   "mimetype": "text/x-python",
   "name": "python",
   "nbconvert_exporter": "python",
   "pygments_lexer": "ipython3",
   "version": "3.10.13"
  },
  "papermill": {
   "default_parameters": {},
   "duration": 15.858391,
   "end_time": "2024-03-29T16:49:58.821664",
   "environment_variables": {},
   "exception": null,
   "input_path": "__notebook__.ipynb",
   "output_path": "__notebook__.ipynb",
   "parameters": {},
   "start_time": "2024-03-29T16:49:42.963273",
   "version": "2.5.0"
  }
 },
 "nbformat": 4,
 "nbformat_minor": 5
}
